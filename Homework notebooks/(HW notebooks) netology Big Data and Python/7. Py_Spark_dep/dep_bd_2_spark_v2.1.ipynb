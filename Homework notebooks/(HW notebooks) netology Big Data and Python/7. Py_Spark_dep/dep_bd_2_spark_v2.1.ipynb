{
  "nbformat": 4,
  "nbformat_minor": 0,
  "metadata": {
    "colab": {
      "name": "dep_bd_2_spark.ipynb",
      "version": "0.3.2",
      "provenance": []
    },
    "kernelspec": {
      "name": "python3",
      "display_name": "Python 3"
    }
  },
  "cells": [
    {
      "cell_type": "code",
      "metadata": {
        "id": "m3mD2VBa6AVy",
        "colab_type": "code",
        "colab": {}
      },
      "source": [
        "!apt-get install openjdk-8-jdk-headless -qq > /dev/null"
      ],
      "execution_count": 0,
      "outputs": []
    },
    {
      "cell_type": "code",
      "metadata": {
        "id": "seW_jDbB7uoK",
        "colab_type": "code",
        "colab": {}
      },
      "source": [
        "!wget -q www-us.apache.org/dist/spark/spark-2.4.3/spark-2.4.3-bin-hadoop2.7.tgz"
      ],
      "execution_count": 0,
      "outputs": []
    },
    {
      "cell_type": "code",
      "metadata": {
        "id": "hrJJXEQo70Kw",
        "colab_type": "code",
        "colab": {}
      },
      "source": [
        "!tar -xvf spark-2.4.3-bin-hadoop2.7.tgz"
      ],
      "execution_count": 0,
      "outputs": []
    },
    {
      "cell_type": "code",
      "metadata": {
        "id": "-JZ2WuaF8JYp",
        "colab_type": "code",
        "colab": {}
      },
      "source": [
        "!pip install -q findspark"
      ],
      "execution_count": 0,
      "outputs": []
    },
    {
      "cell_type": "code",
      "metadata": {
        "id": "tWOG-a0g735U",
        "colab_type": "code",
        "colab": {}
      },
      "source": [
        "import os\n",
        "os.environ[\"JAVA_HOME\"] = \"/usr/lib/jvm/java-8-openjdk-amd64\"\n",
        "os.environ[\"SPARK_HOME\"] = \"/content/spark-2.4.3-bin-hadoop2.7\""
      ],
      "execution_count": 0,
      "outputs": []
    },
    {
      "cell_type": "code",
      "metadata": {
        "id": "vZNPSjeV78VD",
        "colab_type": "code",
        "colab": {}
      },
      "source": [
        "import findspark\n",
        "findspark.init()\n",
        "from pyspark.sql import SparkSession\n",
        "from pyspark.sql import Row\n",
        "from pandas.plotting import scatter_matrix\n",
        "import seaborn as sns\n",
        "import numpy as np\n",
        "from sklearn.linear_model import LinearRegression\n",
        "from pyspark.sql.functions import array, col, explode, struct, lit\n",
        "\n",
        "import warnings\n",
        "warnings.simplefilter('ignore')\n",
        "\n",
        "import pandas as pd\n",
        "import matplotlib.pyplot as plt\n",
        "%matplotlib inline\n",
        "\n",
        "spark = SparkSession.builder.master(\"local[*]\").getOrCreate()"
      ],
      "execution_count": 0,
      "outputs": []
    },
    {
      "cell_type": "markdown",
      "metadata": {
        "id": "_mMOn7Mp-EtY",
        "colab_type": "text"
      },
      "source": [
        "## 7. Загрузить данные в Spark"
      ]
    },
    {
      "cell_type": "code",
      "metadata": {
        "id": "7QdX2wYb8Dvu",
        "colab_type": "code",
        "colab": {}
      },
      "source": [
        "df_data = spark.read.csv(\"u.data\", sep='\\t', header=None, inferSchema=True)\n",
        "df_genre = spark.read.csv(\"u.genre\", sep='|', header=None, inferSchema=True)\n",
        "df_info = spark.read.csv(\"u.info\", sep=' ', header=None, inferSchema=True)\n",
        "df_occupation = spark.read.csv(\"u.occupation\", sep=' ', header=None, inferSchema=True)\n",
        "df_user = spark.read.csv(\"u.user\", sep='|', header=None, inferSchema=True)\n",
        "df_item = spark.read.csv(\"u.item\", sep='|', header=None, inferSchema=True)\n",
        "# encoding='latin_1'"
      ],
      "execution_count": 0,
      "outputs": []
    },
    {
      "cell_type": "code",
      "metadata": {
        "id": "hdlNr8Uc8aw7",
        "colab_type": "code",
        "colab": {}
      },
      "source": [
        "# new_names_df_data = ['user_id', 'movie_id', 'rating', 'timestamp']\n",
        "# df_data = df_data.toDF(*new_names_df_data)\n",
        "\n",
        "# new_names_df_genre = ['genres', 'genres_id']\n",
        "# df_genre = df_genre.toDF(*new_names_df_genre)\n",
        "\n",
        "# new_names_df_user = ['user_id', 'age', 'gender', 'occupation', 'zip_code']\n",
        "# df_user = df_user.toDF(*new_names_df_user)\n",
        "\n",
        "# new_names_df_item = ['movie_id', 'movie_title', 'release_date', \n",
        "#                      'video_release_date', 'IMDb_URL', 'unknown', \n",
        "#                      'Action', 'Adventure', 'Animation', \"Children's\", \n",
        "#                      'Comedy', 'Crime', 'Documentary', 'Drama', 'Fantasy', \n",
        "#                      'Film-Noir', 'Horror', 'Musical', 'Mystery', 'Romance', \n",
        "#                      'Sci-Fi', 'Thriller', 'War', 'Western']\n",
        "# df_item = df_item.toDF(*new_names_df_item)"
      ],
      "execution_count": 0,
      "outputs": []
    },
    {
      "cell_type": "code",
      "metadata": {
        "id": "3iVALWbYUzlg",
        "colab_type": "code",
        "outputId": "443df01e-092d-4d62-ab88-b738a5987844",
        "colab": {
          "base_uri": "https://localhost:8080/",
          "height": 459
        }
      },
      "source": [
        "df_data.show()"
      ],
      "execution_count": 0,
      "outputs": [
        {
          "output_type": "stream",
          "text": [
            "+---+----+---+---------+\n",
            "|_c0| _c1|_c2|      _c3|\n",
            "+---+----+---+---------+\n",
            "|196| 242|  3|881250949|\n",
            "|186| 302|  3|891717742|\n",
            "| 22| 377|  1|878887116|\n",
            "|244|  51|  2|880606923|\n",
            "|166| 346|  1|886397596|\n",
            "|298| 474|  4|884182806|\n",
            "|115| 265|  2|881171488|\n",
            "|253| 465|  5|891628467|\n",
            "|305| 451|  3|886324817|\n",
            "|  6|  86|  3|883603013|\n",
            "| 62| 257|  2|879372434|\n",
            "|286|1014|  5|879781125|\n",
            "|200| 222|  5|876042340|\n",
            "|210|  40|  3|891035994|\n",
            "|224|  29|  3|888104457|\n",
            "|303| 785|  3|879485318|\n",
            "|122| 387|  5|879270459|\n",
            "|194| 274|  2|879539794|\n",
            "|291|1042|  4|874834944|\n",
            "|234|1184|  2|892079237|\n",
            "+---+----+---+---------+\n",
            "only showing top 20 rows\n",
            "\n"
          ],
          "name": "stdout"
        }
      ]
    },
    {
      "cell_type": "code",
      "metadata": {
        "id": "RyKiE7SIU5Tn",
        "colab_type": "code",
        "outputId": "db9d3b1e-cf52-4c55-afba-20a06f0688da",
        "colab": {
          "base_uri": "https://localhost:8080/",
          "height": 34
        }
      },
      "source": [
        "df_data.dtypes"
      ],
      "execution_count": 0,
      "outputs": [
        {
          "output_type": "execute_result",
          "data": {
            "text/plain": [
              "[('_c0', 'int'), ('_c1', 'int'), ('_c2', 'int'), ('_c3', 'int')]"
            ]
          },
          "metadata": {
            "tags": []
          },
          "execution_count": 36
        }
      ]
    },
    {
      "cell_type": "code",
      "metadata": {
        "id": "8gN80j-BU55E",
        "colab_type": "code",
        "outputId": "0a29dceb-8126-4ea8-8354-8a044cedcc39",
        "colab": {
          "base_uri": "https://localhost:8080/",
          "height": 187
        }
      },
      "source": [
        "df_data.describe().show()"
      ],
      "execution_count": 0,
      "outputs": [
        {
          "output_type": "stream",
          "text": [
            "+-------+------------------+------------------+------------------+-----------------+\n",
            "|summary|               _c0|               _c1|               _c2|              _c3|\n",
            "+-------+------------------+------------------+------------------+-----------------+\n",
            "|  count|            100000|            100000|            100000|           100000|\n",
            "|   mean|         462.48475|         425.53013|           3.52986|8.8352885148862E8|\n",
            "| stddev|266.61442012750905|330.79835632558473|1.1256735991443214|5343856.189502848|\n",
            "|    min|                 1|                 1|                 1|        874724710|\n",
            "|    max|               943|              1682|                 5|        893286638|\n",
            "+-------+------------------+------------------+------------------+-----------------+\n",
            "\n"
          ],
          "name": "stdout"
        }
      ]
    },
    {
      "cell_type": "markdown",
      "metadata": {
        "id": "iiyzVgFmB4rz",
        "colab_type": "text"
      },
      "source": [
        "## 8. Средствами спарка вывести среднюю оценку для каждого фильма"
      ]
    },
    {
      "cell_type": "code",
      "metadata": {
        "id": "mibsuecQTs6x",
        "colab_type": "code",
        "outputId": "c51bbdc6-276c-4ce5-e1c3-f1825e373bae",
        "colab": {
          "base_uri": "https://localhost:8080/",
          "height": 459
        }
      },
      "source": [
        "df_data.columns\n",
        "\n",
        "df_data = df_data.withColumnRenamed('_c0', 'user id')\\\n",
        "    .withColumnRenamed('_c1', 'item id')\\\n",
        "    .withColumnRenamed('_c2', 'rating')\\\n",
        "    .withColumnRenamed('_c3', 'timestamp');\n",
        "\n",
        "df_data_grp = df_data.groupby('item id')\n",
        "df_data_grp_mean = df_data_grp.mean('rating')\n",
        "\n",
        "df_data_grp_mean.show()"
      ],
      "execution_count": 0,
      "outputs": [
        {
          "output_type": "stream",
          "text": [
            "+-------+------------------+\n",
            "|item id|       avg(rating)|\n",
            "+-------+------------------+\n",
            "|    496| 4.121212121212121|\n",
            "|    471|3.6108597285067874|\n",
            "|    463| 3.859154929577465|\n",
            "|    148|          3.203125|\n",
            "|   1342|               2.5|\n",
            "|    833| 3.204081632653061|\n",
            "|   1088| 2.230769230769231|\n",
            "|   1591|3.1666666666666665|\n",
            "|   1238|             3.125|\n",
            "|   1580|               1.0|\n",
            "|   1645|               4.0|\n",
            "|    392|3.5441176470588234|\n",
            "|    623| 2.923076923076923|\n",
            "|    540| 2.511627906976744|\n",
            "|    858|               1.0|\n",
            "|    737| 2.983050847457627|\n",
            "|    243|2.4393939393939394|\n",
            "|   1025|2.9318181818181817|\n",
            "|   1084| 3.857142857142857|\n",
            "|   1127| 2.909090909090909|\n",
            "+-------+------------------+\n",
            "only showing top 20 rows\n",
            "\n"
          ],
          "name": "stdout"
        }
      ]
    },
    {
      "cell_type": "markdown",
      "metadata": {
        "id": "9uOSL73oJO1K",
        "colab_type": "text"
      },
      "source": [
        "## 9. В Spark получить 2 df с 5-ю самыми популярными и самыми непопулярными фильмами (по количеству оценок, либо по самой оценке)"
      ]
    },
    {
      "cell_type": "code",
      "metadata": {
        "id": "sSst65eQEI5P",
        "colab_type": "code",
        "outputId": "5029e0aa-7fc4-48e5-b57e-98446776012a",
        "colab": {
          "base_uri": "https://localhost:8080/",
          "height": 357
        }
      },
      "source": [
        "df_items = df_item['_c0', '_c1']\n",
        "\n",
        "df_items = df_items.withColumnRenamed('_c0','item id')\\\n",
        "    .withColumnRenamed('_c1','movie title')\n",
        "\n",
        "df_data_grp_mp = spark.createDataFrame(df_data_grp.count().orderBy('count', ascending=False).take(5)) \n",
        "df_data_grp_lp = spark.createDataFrame(df_data_grp.count().orderBy('count', ascending=True).take(5)) \n",
        "\n",
        "df_data_grp_mp.join(df_items, 'item id', how='inner').show()\n",
        "df_data_grp_lp.join(df_items, 'item id', how='inner').show()"
      ],
      "execution_count": 0,
      "outputs": [
        {
          "output_type": "stream",
          "text": [
            "+-------+-----+--------------------+\n",
            "|item id|count|         movie title|\n",
            "+-------+-----+--------------------+\n",
            "|     50|  583|    Star Wars (1977)|\n",
            "|    258|  509|      Contact (1997)|\n",
            "|    100|  508|        Fargo (1996)|\n",
            "|    181|  507|Return of the Jed...|\n",
            "|    294|  485|    Liar Liar (1997)|\n",
            "+-------+-----+--------------------+\n",
            "\n",
            "+-------+-----+--------------------+\n",
            "|item id|count|         movie title|\n",
            "+-------+-----+--------------------+\n",
            "|   1460|    1|    Sleepover (1995)|\n",
            "|   1507|    1|Three Lives and O...|\n",
            "|   1580|    1|     Liebelei (1933)|\n",
            "|   1645|    1|Butcher Boy, The ...|\n",
            "|   1618|    1|King of New York ...|\n",
            "+-------+-----+--------------------+\n",
            "\n"
          ],
          "name": "stdout"
        }
      ]
    },
    {
      "cell_type": "markdown",
      "metadata": {
        "id": "Qr9MHlWHOQWS",
        "colab_type": "text"
      },
      "source": [
        "## 10. Средствами Spark соедините информацию по фильмам и жанрам (u.genre)"
      ]
    },
    {
      "cell_type": "code",
      "metadata": {
        "id": "pkLPdwhKE_GY",
        "colab_type": "code",
        "outputId": "48f5bbe1-ade3-4d9f-895c-7fe8b8a86460",
        "colab": {
          "base_uri": "https://localhost:8080/",
          "height": 867
        }
      },
      "source": [
        "df_item.show()\n",
        "df_genre.show()"
      ],
      "execution_count": 0,
      "outputs": [
        {
          "output_type": "stream",
          "text": [
            "+---+--------------------+-----------+----+--------------------+---+---+---+---+---+----+----+----+----+----+----+----+----+----+----+----+----+----+----+\n",
            "|_c0|                 _c1|        _c2| _c3|                 _c4|_c5|_c6|_c7|_c8|_c9|_c10|_c11|_c12|_c13|_c14|_c15|_c16|_c17|_c18|_c19|_c20|_c21|_c22|_c23|\n",
            "+---+--------------------+-----------+----+--------------------+---+---+---+---+---+----+----+----+----+----+----+----+----+----+----+----+----+----+----+\n",
            "|  1|    Toy Story (1995)|01-Jan-1995|null|http://us.imdb.co...|  0|  0|  0|  1|  1|   1|   0|   0|   0|   0|   0|   0|   0|   0|   0|   0|   0|   0|   0|\n",
            "|  2|    GoldenEye (1995)|01-Jan-1995|null|http://us.imdb.co...|  0|  1|  1|  0|  0|   0|   0|   0|   0|   0|   0|   0|   0|   0|   0|   0|   1|   0|   0|\n",
            "|  3|   Four Rooms (1995)|01-Jan-1995|null|http://us.imdb.co...|  0|  0|  0|  0|  0|   0|   0|   0|   0|   0|   0|   0|   0|   0|   0|   0|   1|   0|   0|\n",
            "|  4|   Get Shorty (1995)|01-Jan-1995|null|http://us.imdb.co...|  0|  1|  0|  0|  0|   1|   0|   0|   1|   0|   0|   0|   0|   0|   0|   0|   0|   0|   0|\n",
            "|  5|      Copycat (1995)|01-Jan-1995|null|http://us.imdb.co...|  0|  0|  0|  0|  0|   0|   1|   0|   1|   0|   0|   0|   0|   0|   0|   0|   1|   0|   0|\n",
            "|  6|Shanghai Triad (Y...|01-Jan-1995|null|http://us.imdb.co...|  0|  0|  0|  0|  0|   0|   0|   0|   1|   0|   0|   0|   0|   0|   0|   0|   0|   0|   0|\n",
            "|  7|Twelve Monkeys (1...|01-Jan-1995|null|http://us.imdb.co...|  0|  0|  0|  0|  0|   0|   0|   0|   1|   0|   0|   0|   0|   0|   0|   1|   0|   0|   0|\n",
            "|  8|         Babe (1995)|01-Jan-1995|null|http://us.imdb.co...|  0|  0|  0|  0|  1|   1|   0|   0|   1|   0|   0|   0|   0|   0|   0|   0|   0|   0|   0|\n",
            "|  9|Dead Man Walking ...|01-Jan-1995|null|http://us.imdb.co...|  0|  0|  0|  0|  0|   0|   0|   0|   1|   0|   0|   0|   0|   0|   0|   0|   0|   0|   0|\n",
            "| 10|  Richard III (1995)|22-Jan-1996|null|http://us.imdb.co...|  0|  0|  0|  0|  0|   0|   0|   0|   1|   0|   0|   0|   0|   0|   0|   0|   0|   1|   0|\n",
            "| 11|Seven (Se7en) (1995)|01-Jan-1995|null|http://us.imdb.co...|  0|  0|  0|  0|  0|   0|   1|   0|   0|   0|   0|   0|   0|   0|   0|   0|   1|   0|   0|\n",
            "| 12|Usual Suspects, T...|14-Aug-1995|null|http://us.imdb.co...|  0|  0|  0|  0|  0|   0|   1|   0|   0|   0|   0|   0|   0|   0|   0|   0|   1|   0|   0|\n",
            "| 13|Mighty Aphrodite ...|30-Oct-1995|null|http://us.imdb.co...|  0|  0|  0|  0|  0|   1|   0|   0|   0|   0|   0|   0|   0|   0|   0|   0|   0|   0|   0|\n",
            "| 14|  Postino, Il (1994)|01-Jan-1994|null|http://us.imdb.co...|  0|  0|  0|  0|  0|   0|   0|   0|   1|   0|   0|   0|   0|   0|   1|   0|   0|   0|   0|\n",
            "| 15|Mr. Holland's Opu...|29-Jan-1996|null|http://us.imdb.co...|  0|  0|  0|  0|  0|   0|   0|   0|   1|   0|   0|   0|   0|   0|   0|   0|   0|   0|   0|\n",
            "| 16|French Twist (Gaz...|01-Jan-1995|null|http://us.imdb.co...|  0|  0|  0|  0|  0|   1|   0|   0|   0|   0|   0|   0|   0|   0|   1|   0|   0|   0|   0|\n",
            "| 17|From Dusk Till Da...|05-Feb-1996|null|http://us.imdb.co...|  0|  1|  0|  0|  0|   1|   1|   0|   0|   0|   0|   1|   0|   0|   0|   0|   1|   0|   0|\n",
            "| 18|White Balloon, Th...|01-Jan-1995|null|http://us.imdb.co...|  0|  0|  0|  0|  0|   0|   0|   0|   1|   0|   0|   0|   0|   0|   0|   0|   0|   0|   0|\n",
            "| 19|Antonia's Line (1...|01-Jan-1995|null|http://us.imdb.co...|  0|  0|  0|  0|  0|   0|   0|   0|   1|   0|   0|   0|   0|   0|   0|   0|   0|   0|   0|\n",
            "| 20|Angels and Insect...|01-Jan-1995|null|http://us.imdb.co...|  0|  0|  0|  0|  0|   0|   0|   0|   1|   0|   0|   0|   0|   0|   1|   0|   0|   0|   0|\n",
            "+---+--------------------+-----------+----+--------------------+---+---+---+---+---+----+----+----+----+----+----+----+----+----+----+----+----+----+----+\n",
            "only showing top 20 rows\n",
            "\n",
            "+-----------+---+\n",
            "|        _c0|_c1|\n",
            "+-----------+---+\n",
            "|    unknown|  0|\n",
            "|     Action|  1|\n",
            "|  Adventure|  2|\n",
            "|  Animation|  3|\n",
            "| Children's|  4|\n",
            "|     Comedy|  5|\n",
            "|      Crime|  6|\n",
            "|Documentary|  7|\n",
            "|      Drama|  8|\n",
            "|    Fantasy|  9|\n",
            "|  Film-Noir| 10|\n",
            "|     Horror| 11|\n",
            "|    Musical| 12|\n",
            "|    Mystery| 13|\n",
            "|    Romance| 14|\n",
            "|     Sci-Fi| 15|\n",
            "|   Thriller| 16|\n",
            "|        War| 17|\n",
            "|    Western| 18|\n",
            "+-----------+---+\n",
            "\n"
          ],
          "name": "stdout"
        }
      ]
    },
    {
      "cell_type": "code",
      "metadata": {
        "id": "StABwIswWPN5",
        "colab_type": "code",
        "colab": {}
      },
      "source": [
        "df_item = df_item.withColumnRenamed('_c0','item id')\\\n",
        "            .withColumnRenamed('_c1','movie title')\\\n",
        "             .withColumnRenamed('_c5','unknown')\\\n",
        "        .withColumnRenamed('_c6','Action')\\\n",
        "        .withColumnRenamed('_c7','Adventure')\\\n",
        "        .withColumnRenamed('_c8','Animation')\\\n",
        "        .withColumnRenamed('_c9','Children\\'s')\\\n",
        "        .withColumnRenamed('_c10','Comedy')\\\n",
        "        .withColumnRenamed('_c11','Crime')\\\n",
        "        .withColumnRenamed('_c12','Documentary')\\\n",
        "        .withColumnRenamed('_c13','Drama')\\\n",
        "        .withColumnRenamed('_c14','Fantasy')\\\n",
        "        .withColumnRenamed('_c15','Film-Noir')\\\n",
        "        .withColumnRenamed('_c16','Horror')\\\n",
        "        .withColumnRenamed('_c17','Musical')\\\n",
        "        .withColumnRenamed('_c18','Mystery')\\\n",
        "        .withColumnRenamed('_c19','Romance')\\\n",
        "        .withColumnRenamed('_c20','Sci-Fi')\\\n",
        "        .withColumnRenamed('_c21','Thriller')\\\n",
        "        .withColumnRenamed('_c22','War')\\\n",
        "        .withColumnRenamed('_c23','Western')\\\n",
        "    \n",
        "df_item = df_item['item id', 'unknown', 'Action', 'Adventure', 'Animation',\n",
        "              'Children\\'s', 'Comedy', 'Crime', 'Documentary', 'Drama', 'Fantasy',\n",
        "              'Film-Noir', 'Horror', 'Musical','Mystery','Romance', 'Sci-Fi',\n",
        "              'Thriller', 'War','Western']"
      ],
      "execution_count": 0,
      "outputs": []
    },
    {
      "cell_type": "code",
      "metadata": {
        "id": "_ShBLmnXWPXJ",
        "colab_type": "code",
        "outputId": "9acd7cc4-422d-4fda-b811-f4bd498b45d7",
        "colab": {
          "base_uri": "https://localhost:8080/",
          "height": 459
        }
      },
      "source": [
        "def to_long(df, by):\n",
        "\n",
        "    cols, dtypes = zip(*((c, t) for (c, t) in df.dtypes if c not in by))\n",
        "    kvs = explode(array([\n",
        "      struct(lit(c).alias(\"key\"), col(c).alias(\"val\")) for c in cols\n",
        "    ])).alias(\"kvs\")\n",
        "\n",
        "    return df.select(by + [kvs]).select(by + [\"kvs.key\", \"kvs.val\"])\n",
        "\n",
        "df_g_trans = to_long(df_item, [\"item id\"])\n",
        "df_g_trans = df_g_trans.where(df_g_trans['val'] > 0)\n",
        "\n",
        "df_res = df_g_trans.join(df_items, 'item id', how='inner')['item id', 'movie title', 'key']\\\n",
        "    .withColumnRenamed('key','genre')\n",
        "df_res = df_res.join(df_data_grp_mean, 'item id', how='inner') \n",
        "df_res.show()"
      ],
      "execution_count": 0,
      "outputs": [
        {
          "output_type": "stream",
          "text": [
            "+-------+--------------------+----------+------------------+\n",
            "|item id|         movie title|     genre|       avg(rating)|\n",
            "+-------+--------------------+----------+------------------+\n",
            "|      1|    Toy Story (1995)| Animation|3.8783185840707963|\n",
            "|      1|    Toy Story (1995)|Children's|3.8783185840707963|\n",
            "|      1|    Toy Story (1995)|    Comedy|3.8783185840707963|\n",
            "|      2|    GoldenEye (1995)|    Action|3.2061068702290076|\n",
            "|      2|    GoldenEye (1995)| Adventure|3.2061068702290076|\n",
            "|      2|    GoldenEye (1995)|  Thriller|3.2061068702290076|\n",
            "|      3|   Four Rooms (1995)|  Thriller| 3.033333333333333|\n",
            "|      4|   Get Shorty (1995)|    Action| 3.550239234449761|\n",
            "|      4|   Get Shorty (1995)|    Comedy| 3.550239234449761|\n",
            "|      4|   Get Shorty (1995)|     Drama| 3.550239234449761|\n",
            "|      5|      Copycat (1995)|     Crime| 3.302325581395349|\n",
            "|      5|      Copycat (1995)|     Drama| 3.302325581395349|\n",
            "|      5|      Copycat (1995)|  Thriller| 3.302325581395349|\n",
            "|      6|Shanghai Triad (Y...|     Drama| 3.576923076923077|\n",
            "|      7|Twelve Monkeys (1...|     Drama| 3.798469387755102|\n",
            "|      7|Twelve Monkeys (1...|    Sci-Fi| 3.798469387755102|\n",
            "|      8|         Babe (1995)|Children's|3.9954337899543377|\n",
            "|      8|         Babe (1995)|    Comedy|3.9954337899543377|\n",
            "|      8|         Babe (1995)|     Drama|3.9954337899543377|\n",
            "|      9|Dead Man Walking ...|     Drama|3.8963210702341136|\n",
            "+-------+--------------------+----------+------------------+\n",
            "only showing top 20 rows\n",
            "\n"
          ],
          "name": "stdout"
        }
      ]
    },
    {
      "cell_type": "markdown",
      "metadata": {
        "id": "ucV6_JlKWk1S",
        "colab_type": "text"
      },
      "source": [
        "## 11. Посчитайте средствами Spark среднюю оценку для каждого жанра"
      ]
    },
    {
      "cell_type": "code",
      "metadata": {
        "id": "d45T7H6kWPed",
        "colab_type": "code",
        "outputId": "dddd283e-a6c1-46ff-8f30-6891d908473e",
        "colab": {
          "base_uri": "https://localhost:8080/",
          "height": 425
        }
      },
      "source": [
        "df_data_grp_g = df_res.groupby('genre')\n",
        "df_data_grp_mean_g = df_data_grp_g.mean('avg(rating)')\n",
        "df_data_grp_mean_g.show()"
      ],
      "execution_count": 0,
      "outputs": [
        {
          "output_type": "stream",
          "text": [
            "+-----------+------------------+\n",
            "|      genre|  avg(avg(rating))|\n",
            "+-----------+------------------+\n",
            "|      Crime|3.2110147495997547|\n",
            "|    Romance|3.2440490301647995|\n",
            "|   Thriller| 3.136692475563836|\n",
            "|  Adventure|3.1439673136976105|\n",
            "|    unknown|2.2222222222222223|\n",
            "| Children's| 2.916884891868897|\n",
            "|      Drama|3.1873534142973314|\n",
            "|        War| 3.489185428943569|\n",
            "|Documentary| 3.229273094093941|\n",
            "|    Fantasy| 2.849830297920943|\n",
            "|    Mystery| 3.336813932383023|\n",
            "|    Musical| 3.376423123539873|\n",
            "|  Animation|3.2988130803823776|\n",
            "|  Film-Noir|3.5483508757184237|\n",
            "|     Horror| 2.730157352996138|\n",
            "|    Western| 3.185617473056144|\n",
            "|     Comedy|3.0005649618406727|\n",
            "|     Action| 2.966332403758986|\n",
            "|     Sci-Fi|3.1654460532512894|\n",
            "+-----------+------------------+\n",
            "\n"
          ],
          "name": "stdout"
        }
      ]
    },
    {
      "cell_type": "code",
      "metadata": {
        "id": "GrJ73IhZNdqI",
        "colab_type": "code",
        "colab": {}
      },
      "source": [
        "pass"
      ],
      "execution_count": 0,
      "outputs": []
    }
  ]
}