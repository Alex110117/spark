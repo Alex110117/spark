{
  "nbformat": 4,
  "nbformat_minor": 0,
  "metadata": {
    "colab": {
      "name": "Spark_Python.ipynb",
      "version": "0.3.2",
      "provenance": []
    },
    "kernelspec": {
      "name": "python3",
      "display_name": "Python 3"
    }
  },
  "cells": [
    {
      "cell_type": "code",
      "metadata": {
        "id": "ywBD3DVkUpxr",
        "colab_type": "code",
        "colab": {}
      },
      "source": [
        "!apt-get install openjdk-8-jdk-headless -qq > /dev/null"
      ],
      "execution_count": 0,
      "outputs": []
    },
    {
      "cell_type": "code",
      "metadata": {
        "id": "ByL3QkSjUvx5",
        "colab_type": "code",
        "colab": {}
      },
      "source": [
        "!wget -q www-us.apache.org/dist/spark/spark-2.4.3/spark-2.4.3-bin-hadoop2.7.tgz"
      ],
      "execution_count": 0,
      "outputs": []
    },
    {
      "cell_type": "code",
      "metadata": {
        "id": "g2eCmoytUxQo",
        "colab_type": "code",
        "colab": {}
      },
      "source": [
        "!tar -xvf spark-2.4.3-bin-hadoop2.7.tgz"
      ],
      "execution_count": 0,
      "outputs": []
    },
    {
      "cell_type": "code",
      "metadata": {
        "id": "W4CkINNbUyXz",
        "colab_type": "code",
        "colab": {}
      },
      "source": [
        "!pip install -q findspark"
      ],
      "execution_count": 0,
      "outputs": []
    },
    {
      "cell_type": "code",
      "metadata": {
        "id": "aP551EETVazp",
        "colab_type": "code",
        "colab": {}
      },
      "source": [
        "import os\n",
        "os.environ[\"JAVA_HOME\"] = \"/usr/lib/jvm/java-8-openjdk-amd64\"\n",
        "os.environ[\"SPARK_HOME\"] = \"/content/spark-2.4.3-bin-hadoop2.7\""
      ],
      "execution_count": 0,
      "outputs": []
    },
    {
      "cell_type": "code",
      "metadata": {
        "id": "rmMK0sgYVp-x",
        "colab_type": "code",
        "colab": {}
      },
      "source": [
        "import findspark\n",
        "findspark.init()\n",
        "from pyspark.sql import SparkSession\n",
        "from pyspark.sql import Row\n",
        "from pandas.plotting import scatter_matrix\n",
        "import seaborn as sns\n",
        "import numpy as np\n",
        "from sklearn.linear_model import LinearRegression\n",
        "\n",
        "import warnings\n",
        "warnings.simplefilter('ignore')\n",
        "\n",
        "import pandas as pd\n",
        "import matplotlib.pyplot as plt\n",
        "%matplotlib inline\n",
        "\n",
        "spark = SparkSession.builder.master(\"local[*]\").getOrCreate()"
      ],
      "execution_count": 0,
      "outputs": []
    },
    {
      "cell_type": "markdown",
      "metadata": {
        "id": "odnq6pSljR9B",
        "colab_type": "text"
      },
      "source": [
        "Подключим dataset"
      ]
    },
    {
      "cell_type": "code",
      "metadata": {
        "id": "N-ppXbjJV5UI",
        "colab_type": "code",
        "colab": {}
      },
      "source": [
        "data = spark.read.csv('iris.csv', inferSchema=True, header=True)"
      ],
      "execution_count": 0,
      "outputs": []
    },
    {
      "cell_type": "markdown",
      "metadata": {
        "id": "6H9jf7BgjYbv",
        "colab_type": "text"
      },
      "source": [
        "Посмотрим содержимое dataset"
      ]
    },
    {
      "cell_type": "code",
      "metadata": {
        "id": "8itxDmiiV-DL",
        "colab_type": "code",
        "colab": {
          "base_uri": "https://localhost:8080/",
          "height": 459
        },
        "outputId": "1be96037-a8f8-4e08-c85c-c0adcf742f6e"
      },
      "source": [
        "data.show()"
      ],
      "execution_count": 181,
      "outputs": [
        {
          "output_type": "stream",
          "text": [
            "+------------+-----------+------------+-----------+-------+\n",
            "|sepal.length|sepal.width|petal.length|petal.width|variety|\n",
            "+------------+-----------+------------+-----------+-------+\n",
            "|         5.1|        3.5|         1.4|        0.2| Setosa|\n",
            "|         4.9|        3.0|         1.4|        0.2| Setosa|\n",
            "|         4.7|        3.2|         1.3|        0.2| Setosa|\n",
            "|         4.6|        3.1|         1.5|        0.2| Setosa|\n",
            "|         5.0|        3.6|         1.4|        0.2| Setosa|\n",
            "|         5.4|        3.9|         1.7|        0.4| Setosa|\n",
            "|         4.6|        3.4|         1.4|        0.3| Setosa|\n",
            "|         5.0|        3.4|         1.5|        0.2| Setosa|\n",
            "|         4.4|        2.9|         1.4|        0.2| Setosa|\n",
            "|         4.9|        3.1|         1.5|        0.1| Setosa|\n",
            "|         5.4|        3.7|         1.5|        0.2| Setosa|\n",
            "|         4.8|        3.4|         1.6|        0.2| Setosa|\n",
            "|         4.8|        3.0|         1.4|        0.1| Setosa|\n",
            "|         4.3|        3.0|         1.1|        0.1| Setosa|\n",
            "|         5.8|        4.0|         1.2|        0.2| Setosa|\n",
            "|         5.7|        4.4|         1.5|        0.4| Setosa|\n",
            "|         5.4|        3.9|         1.3|        0.4| Setosa|\n",
            "|         5.1|        3.5|         1.4|        0.3| Setosa|\n",
            "|         5.7|        3.8|         1.7|        0.3| Setosa|\n",
            "|         5.1|        3.8|         1.5|        0.3| Setosa|\n",
            "+------------+-----------+------------+-----------+-------+\n",
            "only showing top 20 rows\n",
            "\n"
          ],
          "name": "stdout"
        }
      ]
    },
    {
      "cell_type": "markdown",
      "metadata": {
        "id": "Ntbg6YtUjjdC",
        "colab_type": "text"
      },
      "source": [
        "Название колонок в dataset, далее df"
      ]
    },
    {
      "cell_type": "code",
      "metadata": {
        "id": "jML-gUKqWDCa",
        "colab_type": "code",
        "colab": {
          "base_uri": "https://localhost:8080/",
          "height": 34
        },
        "outputId": "cfeec2df-9a64-4ced-d4dc-d43140f487d2"
      },
      "source": [
        "data.columns"
      ],
      "execution_count": 182,
      "outputs": [
        {
          "output_type": "execute_result",
          "data": {
            "text/plain": [
              "['sepal.length', 'sepal.width', 'petal.length', 'petal.width', 'variety']"
            ]
          },
          "metadata": {
            "tags": []
          },
          "execution_count": 182
        }
      ]
    },
    {
      "cell_type": "markdown",
      "metadata": {
        "id": "10GGsgjqjxvh",
        "colab_type": "text"
      },
      "source": [
        "Как можно заметить в df не совсем корректны название колоннок, их нужно исправить"
      ]
    },
    {
      "cell_type": "code",
      "metadata": {
        "id": "HlzT0OQVY5AM",
        "colab_type": "code",
        "colab": {}
      },
      "source": [
        "new_names = ['sepal_length', 'sepal_width', 'petal_length', 'petal_width', 'variety']\n",
        "df = data.toDF(*new_names)"
      ],
      "execution_count": 0,
      "outputs": []
    },
    {
      "cell_type": "markdown",
      "metadata": {
        "id": "nvlUu5l2j-V9",
        "colab_type": "text"
      },
      "source": [
        "Посмотрим новые колонки и данные по df"
      ]
    },
    {
      "cell_type": "code",
      "metadata": {
        "id": "OPFpl3SEWK9Y",
        "colab_type": "code",
        "colab": {
          "base_uri": "https://localhost:8080/",
          "height": 187
        },
        "outputId": "146b7d8a-48d1-402f-9107-496f58cd6250"
      },
      "source": [
        "df.describe().show()"
      ],
      "execution_count": 184,
      "outputs": [
        {
          "output_type": "stream",
          "text": [
            "+-------+------------------+-------------------+------------------+------------------+---------+\n",
            "|summary|      sepal_length|        sepal_width|      petal_length|       petal_width|  variety|\n",
            "+-------+------------------+-------------------+------------------+------------------+---------+\n",
            "|  count|               150|                150|               150|               150|      150|\n",
            "|   mean| 5.843333333333335|  3.057333333333334|3.7580000000000027| 1.199333333333334|     null|\n",
            "| stddev|0.8280661279778637|0.43586628493669793|1.7652982332594662|0.7622376689603467|     null|\n",
            "|    min|               4.3|                2.0|               1.0|               0.1|   Setosa|\n",
            "|    max|               7.9|                4.4|               6.9|               2.5|Virginica|\n",
            "+-------+------------------+-------------------+------------------+------------------+---------+\n",
            "\n"
          ],
          "name": "stdout"
        }
      ]
    },
    {
      "cell_type": "markdown",
      "metadata": {
        "id": "6qM6OhTSkCbW",
        "colab_type": "text"
      },
      "source": [
        "Далее по условиям задачи необходимо получить min, max, mean(avg)"
      ]
    },
    {
      "cell_type": "code",
      "metadata": {
        "id": "c_CkEPdRWOt1",
        "colab_type": "code",
        "colab": {}
      },
      "source": [
        "df_min_sepal_length = df.groupby('variety').min('sepal_length')\n",
        "df_max_sepal_length = df.groupby('variety').max('sepal_length')\n",
        "df_mean_sepal_length = df.groupby('variety').mean('sepal_length')\n",
        "\n",
        "df_min_sepal_width = df.groupby('variety').min('sepal_width')\n",
        "df_max_sepal_width = df.groupby('variety').max('sepal_width')\n",
        "df_mean_sepal_width = df.groupby('variety').mean('sepal_width')\n",
        "\n",
        "df_min_petal_length = df.groupby('variety').min('petal_length')\n",
        "df_max_petal_length = df.groupby('variety').max('petal_length')\n",
        "df_mean_petal_length = df.groupby('variety').mean('petal_length')\n",
        "\n",
        "df_min_petal_width = df.groupby('variety').min('petal_width')\n",
        "df_max_petal_width = df.groupby('variety').max('petal_width')\n",
        "df_mean_petal_width = df.groupby('variety').mean('petal_width')"
      ],
      "execution_count": 0,
      "outputs": []
    },
    {
      "cell_type": "markdown",
      "metadata": {
        "id": "s1U93_45kPHq",
        "colab_type": "text"
      },
      "source": [
        "Добавим полученные значения в наш df"
      ]
    },
    {
      "cell_type": "code",
      "metadata": {
        "id": "GoAYLBdsXpt5",
        "colab_type": "code",
        "colab": {}
      },
      "source": [
        "df_m1 = df.join(df_min_sepal_length, 'variety', how='inner')\n",
        "df_m2 = df_m1.join(df_max_sepal_length, 'variety', how='inner')\n",
        "df_m3 = df_m2.join(df_mean_sepal_length, 'variety', how='inner')\n",
        "\n",
        "df_m4 = df_m3.join(df_min_sepal_width, 'variety', how='inner')\n",
        "df_m5 = df_m4.join(df_max_sepal_width, 'variety', how='inner')\n",
        "df_m6 = df_m5.join(df_mean_sepal_width, 'variety', how='inner')\n",
        "\n",
        "df_m7 = df_m6.join(df_min_petal_length, 'variety', how='inner')\n",
        "df_m8 = df_m7.join(df_max_petal_length, 'variety', how='inner')\n",
        "df_m9 = df_m8.join(df_mean_petal_length, 'variety', how='inner')\n",
        "\n",
        "df_m10 = df_m9.join(df_min_petal_width, 'variety', how='inner')\n",
        "df_m11 = df_m10.join(df_max_petal_width, 'variety', how='inner')\n",
        "df_m12 = df_m11.join(df_mean_petal_width, 'variety', how='inner')"
      ],
      "execution_count": 0,
      "outputs": []
    },
    {
      "cell_type": "markdown",
      "metadata": {
        "id": "OMt5LXUTkULn",
        "colab_type": "text"
      },
      "source": [
        "Посмотрим что получилось"
      ]
    },
    {
      "cell_type": "code",
      "metadata": {
        "id": "nFBjtpD2dRn7",
        "colab_type": "code",
        "colab": {
          "base_uri": "https://localhost:8080/",
          "height": 519
        },
        "outputId": "3266eb87-a692-48be-abe5-f0d072b5758b"
      },
      "source": [
        "df_m12.show()"
      ],
      "execution_count": 187,
      "outputs": [
        {
          "output_type": "stream",
          "text": [
            "+-------+------------+-----------+------------+-----------+-----------------+-----------------+-----------------+----------------+----------------+-----------------+-----------------+-----------------+------------------+----------------+----------------+------------------+\n",
            "|variety|sepal_length|sepal_width|petal_length|petal_width|min(sepal_length)|max(sepal_length)|avg(sepal_length)|min(sepal_width)|max(sepal_width)| avg(sepal_width)|min(petal_length)|max(petal_length)| avg(petal_length)|min(petal_width)|max(petal_width)|  avg(petal_width)|\n",
            "+-------+------------+-----------+------------+-----------+-----------------+-----------------+-----------------+----------------+----------------+-----------------+-----------------+-----------------+------------------+----------------+----------------+------------------+\n",
            "| Setosa|         5.1|        3.5|         1.4|        0.2|              4.3|              5.8|5.005999999999999|             2.3|             4.4|3.428000000000001|              1.0|              1.9|1.4620000000000002|             0.1|             0.6|0.2459999999999999|\n",
            "| Setosa|         4.9|        3.0|         1.4|        0.2|              4.3|              5.8|5.005999999999999|             2.3|             4.4|3.428000000000001|              1.0|              1.9|1.4620000000000002|             0.1|             0.6|0.2459999999999999|\n",
            "| Setosa|         4.7|        3.2|         1.3|        0.2|              4.3|              5.8|5.005999999999999|             2.3|             4.4|3.428000000000001|              1.0|              1.9|1.4620000000000002|             0.1|             0.6|0.2459999999999999|\n",
            "| Setosa|         4.6|        3.1|         1.5|        0.2|              4.3|              5.8|5.005999999999999|             2.3|             4.4|3.428000000000001|              1.0|              1.9|1.4620000000000002|             0.1|             0.6|0.2459999999999999|\n",
            "| Setosa|         5.0|        3.6|         1.4|        0.2|              4.3|              5.8|5.005999999999999|             2.3|             4.4|3.428000000000001|              1.0|              1.9|1.4620000000000002|             0.1|             0.6|0.2459999999999999|\n",
            "| Setosa|         5.4|        3.9|         1.7|        0.4|              4.3|              5.8|5.005999999999999|             2.3|             4.4|3.428000000000001|              1.0|              1.9|1.4620000000000002|             0.1|             0.6|0.2459999999999999|\n",
            "| Setosa|         4.6|        3.4|         1.4|        0.3|              4.3|              5.8|5.005999999999999|             2.3|             4.4|3.428000000000001|              1.0|              1.9|1.4620000000000002|             0.1|             0.6|0.2459999999999999|\n",
            "| Setosa|         5.0|        3.4|         1.5|        0.2|              4.3|              5.8|5.005999999999999|             2.3|             4.4|3.428000000000001|              1.0|              1.9|1.4620000000000002|             0.1|             0.6|0.2459999999999999|\n",
            "| Setosa|         4.4|        2.9|         1.4|        0.2|              4.3|              5.8|5.005999999999999|             2.3|             4.4|3.428000000000001|              1.0|              1.9|1.4620000000000002|             0.1|             0.6|0.2459999999999999|\n",
            "| Setosa|         4.9|        3.1|         1.5|        0.1|              4.3|              5.8|5.005999999999999|             2.3|             4.4|3.428000000000001|              1.0|              1.9|1.4620000000000002|             0.1|             0.6|0.2459999999999999|\n",
            "| Setosa|         5.4|        3.7|         1.5|        0.2|              4.3|              5.8|5.005999999999999|             2.3|             4.4|3.428000000000001|              1.0|              1.9|1.4620000000000002|             0.1|             0.6|0.2459999999999999|\n",
            "| Setosa|         4.8|        3.4|         1.6|        0.2|              4.3|              5.8|5.005999999999999|             2.3|             4.4|3.428000000000001|              1.0|              1.9|1.4620000000000002|             0.1|             0.6|0.2459999999999999|\n",
            "| Setosa|         4.8|        3.0|         1.4|        0.1|              4.3|              5.8|5.005999999999999|             2.3|             4.4|3.428000000000001|              1.0|              1.9|1.4620000000000002|             0.1|             0.6|0.2459999999999999|\n",
            "| Setosa|         4.3|        3.0|         1.1|        0.1|              4.3|              5.8|5.005999999999999|             2.3|             4.4|3.428000000000001|              1.0|              1.9|1.4620000000000002|             0.1|             0.6|0.2459999999999999|\n",
            "| Setosa|         5.8|        4.0|         1.2|        0.2|              4.3|              5.8|5.005999999999999|             2.3|             4.4|3.428000000000001|              1.0|              1.9|1.4620000000000002|             0.1|             0.6|0.2459999999999999|\n",
            "| Setosa|         5.7|        4.4|         1.5|        0.4|              4.3|              5.8|5.005999999999999|             2.3|             4.4|3.428000000000001|              1.0|              1.9|1.4620000000000002|             0.1|             0.6|0.2459999999999999|\n",
            "| Setosa|         5.4|        3.9|         1.3|        0.4|              4.3|              5.8|5.005999999999999|             2.3|             4.4|3.428000000000001|              1.0|              1.9|1.4620000000000002|             0.1|             0.6|0.2459999999999999|\n",
            "| Setosa|         5.1|        3.5|         1.4|        0.3|              4.3|              5.8|5.005999999999999|             2.3|             4.4|3.428000000000001|              1.0|              1.9|1.4620000000000002|             0.1|             0.6|0.2459999999999999|\n",
            "| Setosa|         5.7|        3.8|         1.7|        0.3|              4.3|              5.8|5.005999999999999|             2.3|             4.4|3.428000000000001|              1.0|              1.9|1.4620000000000002|             0.1|             0.6|0.2459999999999999|\n",
            "| Setosa|         5.1|        3.8|         1.5|        0.3|              4.3|              5.8|5.005999999999999|             2.3|             4.4|3.428000000000001|              1.0|              1.9|1.4620000000000002|             0.1|             0.6|0.2459999999999999|\n",
            "+-------+------------+-----------+------------+-----------+-----------------+-----------------+-----------------+----------------+----------------+-----------------+-----------------+-----------------+------------------+----------------+----------------+------------------+\n",
            "only showing top 20 rows\n",
            "\n"
          ],
          "name": "stdout"
        }
      ]
    },
    {
      "cell_type": "markdown",
      "metadata": {
        "id": "c9ORorPSnY7l",
        "colab_type": "text"
      },
      "source": [
        "Для работы с визуализацией переконвертируем наш df в pandas (DataFrame)"
      ]
    },
    {
      "cell_type": "code",
      "metadata": {
        "id": "d-IazLXNkxBJ",
        "colab_type": "code",
        "colab": {}
      },
      "source": [
        "df_iris = df_m12.toPandas()"
      ],
      "execution_count": 0,
      "outputs": []
    },
    {
      "cell_type": "code",
      "metadata": {
        "id": "YmehVz5ZlyrU",
        "colab_type": "code",
        "colab": {
          "base_uri": "https://localhost:8080/",
          "height": 244
        },
        "outputId": "6c93640b-664f-40a0-98a5-153b52fb7ca7"
      },
      "source": [
        "df_iris.head()"
      ],
      "execution_count": 189,
      "outputs": [
        {
          "output_type": "execute_result",
          "data": {
            "text/html": [
              "<div>\n",
              "<style scoped>\n",
              "    .dataframe tbody tr th:only-of-type {\n",
              "        vertical-align: middle;\n",
              "    }\n",
              "\n",
              "    .dataframe tbody tr th {\n",
              "        vertical-align: top;\n",
              "    }\n",
              "\n",
              "    .dataframe thead th {\n",
              "        text-align: right;\n",
              "    }\n",
              "</style>\n",
              "<table border=\"1\" class=\"dataframe\">\n",
              "  <thead>\n",
              "    <tr style=\"text-align: right;\">\n",
              "      <th></th>\n",
              "      <th>variety</th>\n",
              "      <th>sepal_length</th>\n",
              "      <th>sepal_width</th>\n",
              "      <th>petal_length</th>\n",
              "      <th>petal_width</th>\n",
              "      <th>min(sepal_length)</th>\n",
              "      <th>max(sepal_length)</th>\n",
              "      <th>avg(sepal_length)</th>\n",
              "      <th>min(sepal_width)</th>\n",
              "      <th>max(sepal_width)</th>\n",
              "      <th>avg(sepal_width)</th>\n",
              "      <th>min(petal_length)</th>\n",
              "      <th>max(petal_length)</th>\n",
              "      <th>avg(petal_length)</th>\n",
              "      <th>min(petal_width)</th>\n",
              "      <th>max(petal_width)</th>\n",
              "      <th>avg(petal_width)</th>\n",
              "    </tr>\n",
              "  </thead>\n",
              "  <tbody>\n",
              "    <tr>\n",
              "      <th>0</th>\n",
              "      <td>Setosa</td>\n",
              "      <td>5.1</td>\n",
              "      <td>3.5</td>\n",
              "      <td>1.4</td>\n",
              "      <td>0.2</td>\n",
              "      <td>4.3</td>\n",
              "      <td>5.8</td>\n",
              "      <td>5.006</td>\n",
              "      <td>2.3</td>\n",
              "      <td>4.4</td>\n",
              "      <td>3.428</td>\n",
              "      <td>1.0</td>\n",
              "      <td>1.9</td>\n",
              "      <td>1.462</td>\n",
              "      <td>0.1</td>\n",
              "      <td>0.6</td>\n",
              "      <td>0.246</td>\n",
              "    </tr>\n",
              "    <tr>\n",
              "      <th>1</th>\n",
              "      <td>Setosa</td>\n",
              "      <td>4.9</td>\n",
              "      <td>3.0</td>\n",
              "      <td>1.4</td>\n",
              "      <td>0.2</td>\n",
              "      <td>4.3</td>\n",
              "      <td>5.8</td>\n",
              "      <td>5.006</td>\n",
              "      <td>2.3</td>\n",
              "      <td>4.4</td>\n",
              "      <td>3.428</td>\n",
              "      <td>1.0</td>\n",
              "      <td>1.9</td>\n",
              "      <td>1.462</td>\n",
              "      <td>0.1</td>\n",
              "      <td>0.6</td>\n",
              "      <td>0.246</td>\n",
              "    </tr>\n",
              "    <tr>\n",
              "      <th>2</th>\n",
              "      <td>Setosa</td>\n",
              "      <td>4.7</td>\n",
              "      <td>3.2</td>\n",
              "      <td>1.3</td>\n",
              "      <td>0.2</td>\n",
              "      <td>4.3</td>\n",
              "      <td>5.8</td>\n",
              "      <td>5.006</td>\n",
              "      <td>2.3</td>\n",
              "      <td>4.4</td>\n",
              "      <td>3.428</td>\n",
              "      <td>1.0</td>\n",
              "      <td>1.9</td>\n",
              "      <td>1.462</td>\n",
              "      <td>0.1</td>\n",
              "      <td>0.6</td>\n",
              "      <td>0.246</td>\n",
              "    </tr>\n",
              "    <tr>\n",
              "      <th>3</th>\n",
              "      <td>Setosa</td>\n",
              "      <td>4.6</td>\n",
              "      <td>3.1</td>\n",
              "      <td>1.5</td>\n",
              "      <td>0.2</td>\n",
              "      <td>4.3</td>\n",
              "      <td>5.8</td>\n",
              "      <td>5.006</td>\n",
              "      <td>2.3</td>\n",
              "      <td>4.4</td>\n",
              "      <td>3.428</td>\n",
              "      <td>1.0</td>\n",
              "      <td>1.9</td>\n",
              "      <td>1.462</td>\n",
              "      <td>0.1</td>\n",
              "      <td>0.6</td>\n",
              "      <td>0.246</td>\n",
              "    </tr>\n",
              "    <tr>\n",
              "      <th>4</th>\n",
              "      <td>Setosa</td>\n",
              "      <td>5.0</td>\n",
              "      <td>3.6</td>\n",
              "      <td>1.4</td>\n",
              "      <td>0.2</td>\n",
              "      <td>4.3</td>\n",
              "      <td>5.8</td>\n",
              "      <td>5.006</td>\n",
              "      <td>2.3</td>\n",
              "      <td>4.4</td>\n",
              "      <td>3.428</td>\n",
              "      <td>1.0</td>\n",
              "      <td>1.9</td>\n",
              "      <td>1.462</td>\n",
              "      <td>0.1</td>\n",
              "      <td>0.6</td>\n",
              "      <td>0.246</td>\n",
              "    </tr>\n",
              "  </tbody>\n",
              "</table>\n",
              "</div>"
            ],
            "text/plain": [
              "  variety  sepal_length  ...  max(petal_width)  avg(petal_width)\n",
              "0  Setosa           5.1  ...               0.6             0.246\n",
              "1  Setosa           4.9  ...               0.6             0.246\n",
              "2  Setosa           4.7  ...               0.6             0.246\n",
              "3  Setosa           4.6  ...               0.6             0.246\n",
              "4  Setosa           5.0  ...               0.6             0.246\n",
              "\n",
              "[5 rows x 17 columns]"
            ]
          },
          "metadata": {
            "tags": []
          },
          "execution_count": 189
        }
      ]
    },
    {
      "cell_type": "markdown",
      "metadata": {
        "id": "nl9ffc9xnuhw",
        "colab_type": "text"
      },
      "source": [
        "Построим визуализаций"
      ]
    },
    {
      "cell_type": "code",
      "metadata": {
        "id": "i6v3YOxenUTD",
        "colab_type": "code",
        "colab": {
          "base_uri": "https://localhost:8080/",
          "height": 119
        },
        "outputId": "0c8f4f78-5204-40da-fa99-f3ac1b10d460"
      },
      "source": [
        "df_iris.columns"
      ],
      "execution_count": 190,
      "outputs": [
        {
          "output_type": "execute_result",
          "data": {
            "text/plain": [
              "Index(['variety', 'sepal_length', 'sepal_width', 'petal_length', 'petal_width',\n",
              "       'min(sepal_length)', 'max(sepal_length)', 'avg(sepal_length)',\n",
              "       'min(sepal_width)', 'max(sepal_width)', 'avg(sepal_width)',\n",
              "       'min(petal_length)', 'max(petal_length)', 'avg(petal_length)',\n",
              "       'min(petal_width)', 'max(petal_width)', 'avg(petal_width)'],\n",
              "      dtype='object')"
            ]
          },
          "metadata": {
            "tags": []
          },
          "execution_count": 190
        }
      ]
    },
    {
      "cell_type": "code",
      "metadata": {
        "id": "xrZKDZr4npfe",
        "colab_type": "code",
        "colab": {
          "base_uri": "https://localhost:8080/",
          "height": 613
        },
        "outputId": "a55cb650-6d8d-470b-d0b8-adc4656caa0a"
      },
      "source": [
        "scatter_matrix(df_iris[['variety', 'sepal_length', 'sepal_width', 'petal_length', 'petal_width']], alpha=0.8, figsize=(14,10))\n",
        "plt.show()"
      ],
      "execution_count": 191,
      "outputs": [
        {
          "output_type": "display_data",
          "data": {
            "image/png": "[encoded data removed]",
            "text/plain": [
              "<Figure size 1008x720 with 16 Axes>"
            ]
          },
          "metadata": {
            "tags": []
          }
        }
      ]
    },
    {
      "cell_type": "code",
      "metadata": {
        "id": "ArkwnvmaocHh",
        "colab_type": "code",
        "colab": {
          "base_uri": "https://localhost:8080/",
          "height": 369
        },
        "outputId": "28838749-cb22-4b96-c9d9-babfce37ed92"
      },
      "source": [
        "sns.FacetGrid(df_iris[['variety', 'sepal_length', 'sepal_width', 'petal_length', 'petal_width']], hue=\"variety\", size=5) \\\n",
        "   .map(plt.scatter, \"sepal_length\", \"sepal_width\") \\\n",
        "   .add_legend()\n",
        "\n",
        "plt.show()"
      ],
      "execution_count": 192,
      "outputs": [
        {
          "output_type": "display_data",
          "data": {
            "image/png": "[encoded data removed]",
            "text/plain": [
              "<Figure size 445.75x360 with 1 Axes>"
            ]
          },
          "metadata": {
            "tags": []
          }
        }
      ]
    },
    {
      "cell_type": "code",
      "metadata": {
        "id": "3uaFsv6iovSj",
        "colab_type": "code",
        "colab": {}
      },
      "source": [
        "# (df_iris.loc[df_iris['variety'] == 'Virginica']).head()"
      ],
      "execution_count": 0,
      "outputs": []
    },
    {
      "cell_type": "markdown",
      "metadata": {
        "id": "GGavcEhpqt0B",
        "colab_type": "text"
      },
      "source": [
        "Сформируем правила для наших ячеек которые мы выводили в Spark \n",
        "\n",
        "(['variety', 'sepal_length', 'sepal_width', 'petal_length', 'petal_width',\n",
        "       'min(sepal_length)', 'max(sepal_length)', 'avg(sepal_length)',\n",
        "       'min(sepal_width)', 'max(sepal_width)', 'avg(sepal_width)',\n",
        "       'min(petal_length)', 'max(petal_length)', 'avg(petal_length)',\n",
        "       'min(petal_width)', 'max(petal_width)', 'avg(petal_width)'])\n",
        "\n",
        "- Setosa = (4.3,\t5.8,\t5.006,\t2.3,\t4.4,\t3.428,\t1.0, 1.9,\t1.462,\t0.1,\t0.6,\t0.246)\n",
        "- Versicolor = (4.9,\t7.0,\t5.936,\t2.0,\t3.4\t,2.77,\t3.0,\t5.1,\t4.26,\t1.0,1.8,\t1.326)\n",
        "- Virginica = (4.9,\t7.9,\t6.588,\t2.2, 3.8,\t2.974,\t4.5,\t6.9,\t5.552,\t1.4,\t2.5,\t2.026)\n",
        "\n",
        "\n",
        "Давайте дадим цвета, в зависимости от параметров:\n",
        "\n",
        "- x1=min(sepal_length), \n",
        "- x2=max(sepal_length), \n",
        "- x3=avg(sepal_length),\n",
        "- x4=min(sepal_width), \n",
        "- x5=max(sepal_width), \n",
        "- x6=avg(sepal_width),\n",
        "- x7=min(petal_length), \n",
        "- x8=max(petal_length), \n",
        "- x9=avg(petal_length),\n",
        "- x10=min(petal_width), \n",
        "- x11=max(petal_width), \n",
        "- x12=avg(petal_width)"
      ]
    },
    {
      "cell_type": "code",
      "metadata": {
        "id": "S_QvQqburQdV",
        "colab_type": "code",
        "colab": {}
      },
      "source": [
        "df_iris.columns = ['variety', 'sepal_length', 'sepal_width', 'petal_length', 'petal_width',\n",
        "       'x1', 'x2', 'x3',\n",
        "       'x4', 'x5', 'x6',\n",
        "       'x7', 'x8', 'x9',\n",
        "       'x10', 'x11', 'x12']"
      ],
      "execution_count": 0,
      "outputs": []
    },
    {
      "cell_type": "code",
      "metadata": {
        "id": "-wrZ1hCTwzXC",
        "colab_type": "code",
        "colab": {
          "base_uri": "https://localhost:8080/",
          "height": 244
        },
        "outputId": "5673d88c-4f82-438e-b46f-49a29e207d43"
      },
      "source": [
        "df_iris.head()"
      ],
      "execution_count": 195,
      "outputs": [
        {
          "output_type": "execute_result",
          "data": {
            "text/html": [
              "<div>\n",
              "<style scoped>\n",
              "    .dataframe tbody tr th:only-of-type {\n",
              "        vertical-align: middle;\n",
              "    }\n",
              "\n",
              "    .dataframe tbody tr th {\n",
              "        vertical-align: top;\n",
              "    }\n",
              "\n",
              "    .dataframe thead th {\n",
              "        text-align: right;\n",
              "    }\n",
              "</style>\n",
              "<table border=\"1\" class=\"dataframe\">\n",
              "  <thead>\n",
              "    <tr style=\"text-align: right;\">\n",
              "      <th></th>\n",
              "      <th>variety</th>\n",
              "      <th>sepal_length</th>\n",
              "      <th>sepal_width</th>\n",
              "      <th>petal_length</th>\n",
              "      <th>petal_width</th>\n",
              "      <th>x1</th>\n",
              "      <th>x2</th>\n",
              "      <th>x3</th>\n",
              "      <th>x4</th>\n",
              "      <th>x5</th>\n",
              "      <th>x6</th>\n",
              "      <th>x7</th>\n",
              "      <th>x8</th>\n",
              "      <th>x9</th>\n",
              "      <th>x10</th>\n",
              "      <th>x11</th>\n",
              "      <th>x12</th>\n",
              "    </tr>\n",
              "  </thead>\n",
              "  <tbody>\n",
              "    <tr>\n",
              "      <th>0</th>\n",
              "      <td>Setosa</td>\n",
              "      <td>5.1</td>\n",
              "      <td>3.5</td>\n",
              "      <td>1.4</td>\n",
              "      <td>0.2</td>\n",
              "      <td>4.3</td>\n",
              "      <td>5.8</td>\n",
              "      <td>5.006</td>\n",
              "      <td>2.3</td>\n",
              "      <td>4.4</td>\n",
              "      <td>3.428</td>\n",
              "      <td>1.0</td>\n",
              "      <td>1.9</td>\n",
              "      <td>1.462</td>\n",
              "      <td>0.1</td>\n",
              "      <td>0.6</td>\n",
              "      <td>0.246</td>\n",
              "    </tr>\n",
              "    <tr>\n",
              "      <th>1</th>\n",
              "      <td>Setosa</td>\n",
              "      <td>4.9</td>\n",
              "      <td>3.0</td>\n",
              "      <td>1.4</td>\n",
              "      <td>0.2</td>\n",
              "      <td>4.3</td>\n",
              "      <td>5.8</td>\n",
              "      <td>5.006</td>\n",
              "      <td>2.3</td>\n",
              "      <td>4.4</td>\n",
              "      <td>3.428</td>\n",
              "      <td>1.0</td>\n",
              "      <td>1.9</td>\n",
              "      <td>1.462</td>\n",
              "      <td>0.1</td>\n",
              "      <td>0.6</td>\n",
              "      <td>0.246</td>\n",
              "    </tr>\n",
              "    <tr>\n",
              "      <th>2</th>\n",
              "      <td>Setosa</td>\n",
              "      <td>4.7</td>\n",
              "      <td>3.2</td>\n",
              "      <td>1.3</td>\n",
              "      <td>0.2</td>\n",
              "      <td>4.3</td>\n",
              "      <td>5.8</td>\n",
              "      <td>5.006</td>\n",
              "      <td>2.3</td>\n",
              "      <td>4.4</td>\n",
              "      <td>3.428</td>\n",
              "      <td>1.0</td>\n",
              "      <td>1.9</td>\n",
              "      <td>1.462</td>\n",
              "      <td>0.1</td>\n",
              "      <td>0.6</td>\n",
              "      <td>0.246</td>\n",
              "    </tr>\n",
              "    <tr>\n",
              "      <th>3</th>\n",
              "      <td>Setosa</td>\n",
              "      <td>4.6</td>\n",
              "      <td>3.1</td>\n",
              "      <td>1.5</td>\n",
              "      <td>0.2</td>\n",
              "      <td>4.3</td>\n",
              "      <td>5.8</td>\n",
              "      <td>5.006</td>\n",
              "      <td>2.3</td>\n",
              "      <td>4.4</td>\n",
              "      <td>3.428</td>\n",
              "      <td>1.0</td>\n",
              "      <td>1.9</td>\n",
              "      <td>1.462</td>\n",
              "      <td>0.1</td>\n",
              "      <td>0.6</td>\n",
              "      <td>0.246</td>\n",
              "    </tr>\n",
              "    <tr>\n",
              "      <th>4</th>\n",
              "      <td>Setosa</td>\n",
              "      <td>5.0</td>\n",
              "      <td>3.6</td>\n",
              "      <td>1.4</td>\n",
              "      <td>0.2</td>\n",
              "      <td>4.3</td>\n",
              "      <td>5.8</td>\n",
              "      <td>5.006</td>\n",
              "      <td>2.3</td>\n",
              "      <td>4.4</td>\n",
              "      <td>3.428</td>\n",
              "      <td>1.0</td>\n",
              "      <td>1.9</td>\n",
              "      <td>1.462</td>\n",
              "      <td>0.1</td>\n",
              "      <td>0.6</td>\n",
              "      <td>0.246</td>\n",
              "    </tr>\n",
              "  </tbody>\n",
              "</table>\n",
              "</div>"
            ],
            "text/plain": [
              "  variety  sepal_length  sepal_width  petal_length  ...     x9  x10  x11    x12\n",
              "0  Setosa           5.1          3.5           1.4  ...  1.462  0.1  0.6  0.246\n",
              "1  Setosa           4.9          3.0           1.4  ...  1.462  0.1  0.6  0.246\n",
              "2  Setosa           4.7          3.2           1.3  ...  1.462  0.1  0.6  0.246\n",
              "3  Setosa           4.6          3.1           1.5  ...  1.462  0.1  0.6  0.246\n",
              "4  Setosa           5.0          3.6           1.4  ...  1.462  0.1  0.6  0.246\n",
              "\n",
              "[5 rows x 17 columns]"
            ]
          },
          "metadata": {
            "tags": []
          },
          "execution_count": 195
        }
      ]
    },
    {
      "cell_type": "code",
      "metadata": {
        "id": "DyMu-7pexdik",
        "colab_type": "code",
        "colab": {}
      },
      "source": [
        "df_iris['sum'] = df_iris[['x1', 'x2', 'x3',\n",
        "                          'x4', 'x5', 'x6', \n",
        "                          'x7', 'x8', 'x9', \n",
        "                          'x10', 'x11', 'x12']].sum(axis=1)"
      ],
      "execution_count": 0,
      "outputs": []
    },
    {
      "cell_type": "code",
      "metadata": {
        "id": "PPBaPA4f0Mqp",
        "colab_type": "code",
        "colab": {
          "base_uri": "https://localhost:8080/",
          "height": 244
        },
        "outputId": "799f0359-ae7a-4dad-dbf9-2eb3dcc6e553"
      },
      "source": [
        "df_iris.head()"
      ],
      "execution_count": 197,
      "outputs": [
        {
          "output_type": "execute_result",
          "data": {
            "text/html": [
              "<div>\n",
              "<style scoped>\n",
              "    .dataframe tbody tr th:only-of-type {\n",
              "        vertical-align: middle;\n",
              "    }\n",
              "\n",
              "    .dataframe tbody tr th {\n",
              "        vertical-align: top;\n",
              "    }\n",
              "\n",
              "    .dataframe thead th {\n",
              "        text-align: right;\n",
              "    }\n",
              "</style>\n",
              "<table border=\"1\" class=\"dataframe\">\n",
              "  <thead>\n",
              "    <tr style=\"text-align: right;\">\n",
              "      <th></th>\n",
              "      <th>variety</th>\n",
              "      <th>sepal_length</th>\n",
              "      <th>sepal_width</th>\n",
              "      <th>petal_length</th>\n",
              "      <th>petal_width</th>\n",
              "      <th>x1</th>\n",
              "      <th>x2</th>\n",
              "      <th>x3</th>\n",
              "      <th>x4</th>\n",
              "      <th>x5</th>\n",
              "      <th>x6</th>\n",
              "      <th>x7</th>\n",
              "      <th>x8</th>\n",
              "      <th>x9</th>\n",
              "      <th>x10</th>\n",
              "      <th>x11</th>\n",
              "      <th>x12</th>\n",
              "      <th>sum</th>\n",
              "    </tr>\n",
              "  </thead>\n",
              "  <tbody>\n",
              "    <tr>\n",
              "      <th>0</th>\n",
              "      <td>Setosa</td>\n",
              "      <td>5.1</td>\n",
              "      <td>3.5</td>\n",
              "      <td>1.4</td>\n",
              "      <td>0.2</td>\n",
              "      <td>4.3</td>\n",
              "      <td>5.8</td>\n",
              "      <td>5.006</td>\n",
              "      <td>2.3</td>\n",
              "      <td>4.4</td>\n",
              "      <td>3.428</td>\n",
              "      <td>1.0</td>\n",
              "      <td>1.9</td>\n",
              "      <td>1.462</td>\n",
              "      <td>0.1</td>\n",
              "      <td>0.6</td>\n",
              "      <td>0.246</td>\n",
              "      <td>30.542</td>\n",
              "    </tr>\n",
              "    <tr>\n",
              "      <th>1</th>\n",
              "      <td>Setosa</td>\n",
              "      <td>4.9</td>\n",
              "      <td>3.0</td>\n",
              "      <td>1.4</td>\n",
              "      <td>0.2</td>\n",
              "      <td>4.3</td>\n",
              "      <td>5.8</td>\n",
              "      <td>5.006</td>\n",
              "      <td>2.3</td>\n",
              "      <td>4.4</td>\n",
              "      <td>3.428</td>\n",
              "      <td>1.0</td>\n",
              "      <td>1.9</td>\n",
              "      <td>1.462</td>\n",
              "      <td>0.1</td>\n",
              "      <td>0.6</td>\n",
              "      <td>0.246</td>\n",
              "      <td>30.542</td>\n",
              "    </tr>\n",
              "    <tr>\n",
              "      <th>2</th>\n",
              "      <td>Setosa</td>\n",
              "      <td>4.7</td>\n",
              "      <td>3.2</td>\n",
              "      <td>1.3</td>\n",
              "      <td>0.2</td>\n",
              "      <td>4.3</td>\n",
              "      <td>5.8</td>\n",
              "      <td>5.006</td>\n",
              "      <td>2.3</td>\n",
              "      <td>4.4</td>\n",
              "      <td>3.428</td>\n",
              "      <td>1.0</td>\n",
              "      <td>1.9</td>\n",
              "      <td>1.462</td>\n",
              "      <td>0.1</td>\n",
              "      <td>0.6</td>\n",
              "      <td>0.246</td>\n",
              "      <td>30.542</td>\n",
              "    </tr>\n",
              "    <tr>\n",
              "      <th>3</th>\n",
              "      <td>Setosa</td>\n",
              "      <td>4.6</td>\n",
              "      <td>3.1</td>\n",
              "      <td>1.5</td>\n",
              "      <td>0.2</td>\n",
              "      <td>4.3</td>\n",
              "      <td>5.8</td>\n",
              "      <td>5.006</td>\n",
              "      <td>2.3</td>\n",
              "      <td>4.4</td>\n",
              "      <td>3.428</td>\n",
              "      <td>1.0</td>\n",
              "      <td>1.9</td>\n",
              "      <td>1.462</td>\n",
              "      <td>0.1</td>\n",
              "      <td>0.6</td>\n",
              "      <td>0.246</td>\n",
              "      <td>30.542</td>\n",
              "    </tr>\n",
              "    <tr>\n",
              "      <th>4</th>\n",
              "      <td>Setosa</td>\n",
              "      <td>5.0</td>\n",
              "      <td>3.6</td>\n",
              "      <td>1.4</td>\n",
              "      <td>0.2</td>\n",
              "      <td>4.3</td>\n",
              "      <td>5.8</td>\n",
              "      <td>5.006</td>\n",
              "      <td>2.3</td>\n",
              "      <td>4.4</td>\n",
              "      <td>3.428</td>\n",
              "      <td>1.0</td>\n",
              "      <td>1.9</td>\n",
              "      <td>1.462</td>\n",
              "      <td>0.1</td>\n",
              "      <td>0.6</td>\n",
              "      <td>0.246</td>\n",
              "      <td>30.542</td>\n",
              "    </tr>\n",
              "  </tbody>\n",
              "</table>\n",
              "</div>"
            ],
            "text/plain": [
              "  variety  sepal_length  sepal_width  petal_length  ...  x10  x11    x12     sum\n",
              "0  Setosa           5.1          3.5           1.4  ...  0.1  0.6  0.246  30.542\n",
              "1  Setosa           4.9          3.0           1.4  ...  0.1  0.6  0.246  30.542\n",
              "2  Setosa           4.7          3.2           1.3  ...  0.1  0.6  0.246  30.542\n",
              "3  Setosa           4.6          3.1           1.5  ...  0.1  0.6  0.246  30.542\n",
              "4  Setosa           5.0          3.6           1.4  ...  0.1  0.6  0.246  30.542\n",
              "\n",
              "[5 rows x 18 columns]"
            ]
          },
          "metadata": {
            "tags": []
          },
          "execution_count": 197
        }
      ]
    },
    {
      "cell_type": "code",
      "metadata": {
        "id": "FBsMoZYx1sVM",
        "colab_type": "code",
        "colab": {}
      },
      "source": [
        "# (df_iris.loc[df_iris['variety'] == 'Virginica']).head()\n",
        "# (df_iris.loc[df_iris['variety'] == 'Versicolor']).head()\n",
        "# (df_iris.loc[df_iris['variety'] == 'Setosa']).head()"
      ],
      "execution_count": 0,
      "outputs": []
    },
    {
      "cell_type": "markdown",
      "metadata": {
        "id": "-dbYnkcT33rq",
        "colab_type": "text"
      },
      "source": [
        "Итого:\n",
        "- 30.542 по Setosa\n",
        "- 42.492 по Versicolor\n",
        "- 51.24 по Virginica\n",
        "\n",
        "Как можно заметить, если выводить новую коллонку то она будет выглядеть  так:\n",
        "- Setosa - X\n",
        "- Versicolor - Y\n",
        "- Virginica - Z\n",
        "\n",
        "Немного изменю условие, возьму сумму по строкамиз самого df и вывиду значение в новый столбец"
      ]
    },
    {
      "cell_type": "code",
      "metadata": {
        "id": "B4lMfpfz2ESq",
        "colab_type": "code",
        "colab": {}
      },
      "source": [
        "df_iris['sum_color'] = df_iris[['sepal_length', 'sepal_width', 'petal_length', 'petal_width']].sum(axis=1)"
      ],
      "execution_count": 0,
      "outputs": []
    },
    {
      "cell_type": "code",
      "metadata": {
        "id": "k6a9oyWh61fE",
        "colab_type": "code",
        "colab": {
          "base_uri": "https://localhost:8080/",
          "height": 244
        },
        "outputId": "6e6b2cbb-8cb7-4d46-c7c8-0a60a493e666"
      },
      "source": [
        "df_iris.head()"
      ],
      "execution_count": 199,
      "outputs": [
        {
          "output_type": "execute_result",
          "data": {
            "text/html": [
              "<div>\n",
              "<style scoped>\n",
              "    .dataframe tbody tr th:only-of-type {\n",
              "        vertical-align: middle;\n",
              "    }\n",
              "\n",
              "    .dataframe tbody tr th {\n",
              "        vertical-align: top;\n",
              "    }\n",
              "\n",
              "    .dataframe thead th {\n",
              "        text-align: right;\n",
              "    }\n",
              "</style>\n",
              "<table border=\"1\" class=\"dataframe\">\n",
              "  <thead>\n",
              "    <tr style=\"text-align: right;\">\n",
              "      <th></th>\n",
              "      <th>variety</th>\n",
              "      <th>sepal_length</th>\n",
              "      <th>sepal_width</th>\n",
              "      <th>petal_length</th>\n",
              "      <th>petal_width</th>\n",
              "      <th>x1</th>\n",
              "      <th>x2</th>\n",
              "      <th>x3</th>\n",
              "      <th>x4</th>\n",
              "      <th>x5</th>\n",
              "      <th>x6</th>\n",
              "      <th>x7</th>\n",
              "      <th>x8</th>\n",
              "      <th>x9</th>\n",
              "      <th>x10</th>\n",
              "      <th>x11</th>\n",
              "      <th>x12</th>\n",
              "      <th>sum</th>\n",
              "      <th>sum_color</th>\n",
              "    </tr>\n",
              "  </thead>\n",
              "  <tbody>\n",
              "    <tr>\n",
              "      <th>0</th>\n",
              "      <td>Setosa</td>\n",
              "      <td>5.1</td>\n",
              "      <td>3.5</td>\n",
              "      <td>1.4</td>\n",
              "      <td>0.2</td>\n",
              "      <td>4.3</td>\n",
              "      <td>5.8</td>\n",
              "      <td>5.006</td>\n",
              "      <td>2.3</td>\n",
              "      <td>4.4</td>\n",
              "      <td>3.428</td>\n",
              "      <td>1.0</td>\n",
              "      <td>1.9</td>\n",
              "      <td>1.462</td>\n",
              "      <td>0.1</td>\n",
              "      <td>0.6</td>\n",
              "      <td>0.246</td>\n",
              "      <td>30.542</td>\n",
              "      <td>10.2</td>\n",
              "    </tr>\n",
              "    <tr>\n",
              "      <th>1</th>\n",
              "      <td>Setosa</td>\n",
              "      <td>4.9</td>\n",
              "      <td>3.0</td>\n",
              "      <td>1.4</td>\n",
              "      <td>0.2</td>\n",
              "      <td>4.3</td>\n",
              "      <td>5.8</td>\n",
              "      <td>5.006</td>\n",
              "      <td>2.3</td>\n",
              "      <td>4.4</td>\n",
              "      <td>3.428</td>\n",
              "      <td>1.0</td>\n",
              "      <td>1.9</td>\n",
              "      <td>1.462</td>\n",
              "      <td>0.1</td>\n",
              "      <td>0.6</td>\n",
              "      <td>0.246</td>\n",
              "      <td>30.542</td>\n",
              "      <td>9.5</td>\n",
              "    </tr>\n",
              "    <tr>\n",
              "      <th>2</th>\n",
              "      <td>Setosa</td>\n",
              "      <td>4.7</td>\n",
              "      <td>3.2</td>\n",
              "      <td>1.3</td>\n",
              "      <td>0.2</td>\n",
              "      <td>4.3</td>\n",
              "      <td>5.8</td>\n",
              "      <td>5.006</td>\n",
              "      <td>2.3</td>\n",
              "      <td>4.4</td>\n",
              "      <td>3.428</td>\n",
              "      <td>1.0</td>\n",
              "      <td>1.9</td>\n",
              "      <td>1.462</td>\n",
              "      <td>0.1</td>\n",
              "      <td>0.6</td>\n",
              "      <td>0.246</td>\n",
              "      <td>30.542</td>\n",
              "      <td>9.4</td>\n",
              "    </tr>\n",
              "    <tr>\n",
              "      <th>3</th>\n",
              "      <td>Setosa</td>\n",
              "      <td>4.6</td>\n",
              "      <td>3.1</td>\n",
              "      <td>1.5</td>\n",
              "      <td>0.2</td>\n",
              "      <td>4.3</td>\n",
              "      <td>5.8</td>\n",
              "      <td>5.006</td>\n",
              "      <td>2.3</td>\n",
              "      <td>4.4</td>\n",
              "      <td>3.428</td>\n",
              "      <td>1.0</td>\n",
              "      <td>1.9</td>\n",
              "      <td>1.462</td>\n",
              "      <td>0.1</td>\n",
              "      <td>0.6</td>\n",
              "      <td>0.246</td>\n",
              "      <td>30.542</td>\n",
              "      <td>9.4</td>\n",
              "    </tr>\n",
              "    <tr>\n",
              "      <th>4</th>\n",
              "      <td>Setosa</td>\n",
              "      <td>5.0</td>\n",
              "      <td>3.6</td>\n",
              "      <td>1.4</td>\n",
              "      <td>0.2</td>\n",
              "      <td>4.3</td>\n",
              "      <td>5.8</td>\n",
              "      <td>5.006</td>\n",
              "      <td>2.3</td>\n",
              "      <td>4.4</td>\n",
              "      <td>3.428</td>\n",
              "      <td>1.0</td>\n",
              "      <td>1.9</td>\n",
              "      <td>1.462</td>\n",
              "      <td>0.1</td>\n",
              "      <td>0.6</td>\n",
              "      <td>0.246</td>\n",
              "      <td>30.542</td>\n",
              "      <td>10.2</td>\n",
              "    </tr>\n",
              "  </tbody>\n",
              "</table>\n",
              "</div>"
            ],
            "text/plain": [
              "  variety  sepal_length  sepal_width  ...    x12     sum  sum_color\n",
              "0  Setosa           5.1          3.5  ...  0.246  30.542       10.2\n",
              "1  Setosa           4.9          3.0  ...  0.246  30.542        9.5\n",
              "2  Setosa           4.7          3.2  ...  0.246  30.542        9.4\n",
              "3  Setosa           4.6          3.1  ...  0.246  30.542        9.4\n",
              "4  Setosa           5.0          3.6  ...  0.246  30.542       10.2\n",
              "\n",
              "[5 rows x 19 columns]"
            ]
          },
          "metadata": {
            "tags": []
          },
          "execution_count": 199
        }
      ]
    },
    {
      "cell_type": "markdown",
      "metadata": {
        "id": "tiYdezcu65jA",
        "colab_type": "text"
      },
      "source": [
        "Теперь данные отличаются от ранее полученного результата, давайте зададим цвета, предварительно избавившись от ненужных столбцов. Путем формирования нового df"
      ]
    },
    {
      "cell_type": "code",
      "metadata": {
        "id": "jFaOgwjZ62-i",
        "colab_type": "code",
        "colab": {}
      },
      "source": [
        "df_ir = df_iris[['variety', 'sepal_length', 'sepal_width', 'petal_length', 'petal_width', 'sum_color']]"
      ],
      "execution_count": 0,
      "outputs": []
    },
    {
      "cell_type": "code",
      "metadata": {
        "id": "O0b7LypS7rIJ",
        "colab_type": "code",
        "colab": {
          "base_uri": "https://localhost:8080/",
          "height": 297
        },
        "outputId": "efda2dda-0c9a-4312-bff5-122621758329"
      },
      "source": [
        "df_ir.describe()"
      ],
      "execution_count": 332,
      "outputs": [
        {
          "output_type": "execute_result",
          "data": {
            "text/html": [
              "<div>\n",
              "<style scoped>\n",
              "    .dataframe tbody tr th:only-of-type {\n",
              "        vertical-align: middle;\n",
              "    }\n",
              "\n",
              "    .dataframe tbody tr th {\n",
              "        vertical-align: top;\n",
              "    }\n",
              "\n",
              "    .dataframe thead th {\n",
              "        text-align: right;\n",
              "    }\n",
              "</style>\n",
              "<table border=\"1\" class=\"dataframe\">\n",
              "  <thead>\n",
              "    <tr style=\"text-align: right;\">\n",
              "      <th></th>\n",
              "      <th>sepal_length</th>\n",
              "      <th>sepal_width</th>\n",
              "      <th>petal_length</th>\n",
              "      <th>petal_width</th>\n",
              "      <th>sum_color</th>\n",
              "    </tr>\n",
              "  </thead>\n",
              "  <tbody>\n",
              "    <tr>\n",
              "      <th>count</th>\n",
              "      <td>150.000000</td>\n",
              "      <td>150.000000</td>\n",
              "      <td>150.000000</td>\n",
              "      <td>150.000000</td>\n",
              "      <td>150.000000</td>\n",
              "    </tr>\n",
              "    <tr>\n",
              "      <th>mean</th>\n",
              "      <td>5.843333</td>\n",
              "      <td>3.057333</td>\n",
              "      <td>3.758000</td>\n",
              "      <td>1.199333</td>\n",
              "      <td>13.858000</td>\n",
              "    </tr>\n",
              "    <tr>\n",
              "      <th>std</th>\n",
              "      <td>0.828066</td>\n",
              "      <td>0.435866</td>\n",
              "      <td>1.765298</td>\n",
              "      <td>0.762238</td>\n",
              "      <td>3.123762</td>\n",
              "    </tr>\n",
              "    <tr>\n",
              "      <th>min</th>\n",
              "      <td>4.300000</td>\n",
              "      <td>2.000000</td>\n",
              "      <td>1.000000</td>\n",
              "      <td>0.100000</td>\n",
              "      <td>8.400000</td>\n",
              "    </tr>\n",
              "    <tr>\n",
              "      <th>25%</th>\n",
              "      <td>5.100000</td>\n",
              "      <td>2.800000</td>\n",
              "      <td>1.600000</td>\n",
              "      <td>0.300000</td>\n",
              "      <td>10.700000</td>\n",
              "    </tr>\n",
              "    <tr>\n",
              "      <th>50%</th>\n",
              "      <td>5.800000</td>\n",
              "      <td>3.000000</td>\n",
              "      <td>4.350000</td>\n",
              "      <td>1.300000</td>\n",
              "      <td>14.300000</td>\n",
              "    </tr>\n",
              "    <tr>\n",
              "      <th>75%</th>\n",
              "      <td>6.400000</td>\n",
              "      <td>3.300000</td>\n",
              "      <td>5.100000</td>\n",
              "      <td>1.800000</td>\n",
              "      <td>16.250000</td>\n",
              "    </tr>\n",
              "    <tr>\n",
              "      <th>max</th>\n",
              "      <td>7.900000</td>\n",
              "      <td>4.400000</td>\n",
              "      <td>6.900000</td>\n",
              "      <td>2.500000</td>\n",
              "      <td>20.400000</td>\n",
              "    </tr>\n",
              "  </tbody>\n",
              "</table>\n",
              "</div>"
            ],
            "text/plain": [
              "       sepal_length  sepal_width  petal_length  petal_width   sum_color\n",
              "count    150.000000   150.000000    150.000000   150.000000  150.000000\n",
              "mean       5.843333     3.057333      3.758000     1.199333   13.858000\n",
              "std        0.828066     0.435866      1.765298     0.762238    3.123762\n",
              "min        4.300000     2.000000      1.000000     0.100000    8.400000\n",
              "25%        5.100000     2.800000      1.600000     0.300000   10.700000\n",
              "50%        5.800000     3.000000      4.350000     1.300000   14.300000\n",
              "75%        6.400000     3.300000      5.100000     1.800000   16.250000\n",
              "max        7.900000     4.400000      6.900000     2.500000   20.400000"
            ]
          },
          "metadata": {
            "tags": []
          },
          "execution_count": 332
        }
      ]
    },
    {
      "cell_type": "markdown",
      "metadata": {
        "id": "fzfhydeU97QK",
        "colab_type": "text"
      },
      "source": [
        "Видим что sum_color имеет разброс, от:\n",
        "- min = 8.4\n",
        "- max = 20.4\n",
        "\n",
        "Зададим правило:\n",
        "- если значение sum_color от 1 - 10, тогда 'Green'\n",
        "- если значение sum_color от 10.1 - 14, тогда 'Yellow'\n",
        "- если значение sum_color от 14.1 - 16, тогда 'Blue'\n",
        "- если значение sum_color от 16.1 - 21, тогда 'Red'"
      ]
    },
    {
      "cell_type": "code",
      "metadata": {
        "id": "9j9nLDHC77HY",
        "colab_type": "code",
        "colab": {}
      },
      "source": [
        "df_ir['color'] = df_ir.apply(lambda x: 'Green' if (x['sum_color']>=0.1) & (x['sum_color']<=10)\n",
        "                             else ('Yellow' if (x['sum_color']>=10.01) & (x['sum_color']<=14) \n",
        "                                   else ('Blue' if (x['sum_color']>=14.01) & (x['sum_color']<=17)\n",
        "                                        else ('Red' if (x['sum_color']>=17.01) & (x['sum_color']<=21.9)\n",
        "                                            else '!!!' ))), axis=1)"
      ],
      "execution_count": 0,
      "outputs": []
    },
    {
      "cell_type": "code",
      "metadata": {
        "id": "7WQg8b94ENzo",
        "colab_type": "code",
        "colab": {
          "base_uri": "https://localhost:8080/",
          "height": 204
        },
        "outputId": "1783e2be-f67c-41df-ed88-4fbf1446c682"
      },
      "source": [
        "df_ir.head()"
      ],
      "execution_count": 334,
      "outputs": [
        {
          "output_type": "execute_result",
          "data": {
            "text/html": [
              "<div>\n",
              "<style scoped>\n",
              "    .dataframe tbody tr th:only-of-type {\n",
              "        vertical-align: middle;\n",
              "    }\n",
              "\n",
              "    .dataframe tbody tr th {\n",
              "        vertical-align: top;\n",
              "    }\n",
              "\n",
              "    .dataframe thead th {\n",
              "        text-align: right;\n",
              "    }\n",
              "</style>\n",
              "<table border=\"1\" class=\"dataframe\">\n",
              "  <thead>\n",
              "    <tr style=\"text-align: right;\">\n",
              "      <th></th>\n",
              "      <th>variety</th>\n",
              "      <th>sepal_length</th>\n",
              "      <th>sepal_width</th>\n",
              "      <th>petal_length</th>\n",
              "      <th>petal_width</th>\n",
              "      <th>sum_color</th>\n",
              "      <th>color</th>\n",
              "    </tr>\n",
              "  </thead>\n",
              "  <tbody>\n",
              "    <tr>\n",
              "      <th>0</th>\n",
              "      <td>Setosa</td>\n",
              "      <td>5.1</td>\n",
              "      <td>3.5</td>\n",
              "      <td>1.4</td>\n",
              "      <td>0.2</td>\n",
              "      <td>10.2</td>\n",
              "      <td>Yellow</td>\n",
              "    </tr>\n",
              "    <tr>\n",
              "      <th>1</th>\n",
              "      <td>Setosa</td>\n",
              "      <td>4.9</td>\n",
              "      <td>3.0</td>\n",
              "      <td>1.4</td>\n",
              "      <td>0.2</td>\n",
              "      <td>9.5</td>\n",
              "      <td>Green</td>\n",
              "    </tr>\n",
              "    <tr>\n",
              "      <th>2</th>\n",
              "      <td>Setosa</td>\n",
              "      <td>4.7</td>\n",
              "      <td>3.2</td>\n",
              "      <td>1.3</td>\n",
              "      <td>0.2</td>\n",
              "      <td>9.4</td>\n",
              "      <td>Green</td>\n",
              "    </tr>\n",
              "    <tr>\n",
              "      <th>3</th>\n",
              "      <td>Setosa</td>\n",
              "      <td>4.6</td>\n",
              "      <td>3.1</td>\n",
              "      <td>1.5</td>\n",
              "      <td>0.2</td>\n",
              "      <td>9.4</td>\n",
              "      <td>Green</td>\n",
              "    </tr>\n",
              "    <tr>\n",
              "      <th>4</th>\n",
              "      <td>Setosa</td>\n",
              "      <td>5.0</td>\n",
              "      <td>3.6</td>\n",
              "      <td>1.4</td>\n",
              "      <td>0.2</td>\n",
              "      <td>10.2</td>\n",
              "      <td>Yellow</td>\n",
              "    </tr>\n",
              "  </tbody>\n",
              "</table>\n",
              "</div>"
            ],
            "text/plain": [
              "  variety  sepal_length  sepal_width  ...  petal_width  sum_color   color\n",
              "0  Setosa           5.1          3.5  ...          0.2       10.2  Yellow\n",
              "1  Setosa           4.9          3.0  ...          0.2        9.5   Green\n",
              "2  Setosa           4.7          3.2  ...          0.2        9.4   Green\n",
              "3  Setosa           4.6          3.1  ...          0.2        9.4   Green\n",
              "4  Setosa           5.0          3.6  ...          0.2       10.2  Yellow\n",
              "\n",
              "[5 rows x 7 columns]"
            ]
          },
          "metadata": {
            "tags": []
          },
          "execution_count": 334
        }
      ]
    },
    {
      "cell_type": "markdown",
      "metadata": {
        "id": "jZUjNR8xGEXk",
        "colab_type": "text"
      },
      "source": [
        "Хорошо, теперь посмотрим что обстоит с расспределением по цветам в df"
      ]
    },
    {
      "cell_type": "code",
      "metadata": {
        "id": "TQn0veFdEdtS",
        "colab_type": "code",
        "colab": {
          "base_uri": "https://localhost:8080/",
          "height": 85
        },
        "outputId": "794a4665-b272-4f87-ed53-55a3acfa04c7"
      },
      "source": [
        "# display((df_ir.loc[df_ir['color'] == 'Green']))\n",
        "# display((df_ir.loc[df_ir['color'] == 'Yellow']))\n",
        "# display((df_ir.loc[df_ir['color'] == 'Blue']))\n",
        "# display((df_ir.loc[df_ir['color'] == 'Red']))\n",
        "\n",
        "print(\"Колличество Blue: {}\".format((df_ir['color']=='Blue').sum()))\n",
        "print(\"Колличество Yellow: {}\".format((df_ir['color']=='Yellow').sum()))\n",
        "print(\"Колличество Red: {}\".format((df_ir['color']=='Red').sum()))\n",
        "print(\"Колличество Green: {}\".format((df_ir['color']=='Green').sum()))"
      ],
      "execution_count": 337,
      "outputs": [
        {
          "output_type": "stream",
          "text": [
            "Колличество Blue: 53\n",
            "Колличество Yellow: 49\n",
            "Колличество Red: 26\n",
            "Колличество Green: 22\n"
          ],
          "name": "stdout"
        }
      ]
    },
    {
      "cell_type": "code",
      "metadata": {
        "id": "I9myVmsnIiFC",
        "colab_type": "code",
        "colab": {
          "base_uri": "https://localhost:8080/",
          "height": 294
        },
        "outputId": "9274cb1a-d5e2-46f8-a57b-dcef1fa77a14"
      },
      "source": [
        "LABELS = ['Blue', 'Yellow', 'Red', 'Green']\n",
        "count_classes = pd.value_counts(df_ir['color'], sort = True)\n",
        "count_classes.plot(kind = 'bar', rot=20, edgecolor='Red')\n",
        "plt.xticks(range(4), LABELS)\n",
        "plt.xlabel(\"Color\")\n",
        "plt.ylabel(\"Frequency\")\n",
        "plt.ylim((0, 70))\n",
        "plt.show()"
      ],
      "execution_count": 338,
      "outputs": [
        {
          "output_type": "display_data",
          "data": {
            "image/png": "[encoded data removed]",
            "text/plain": [
              "<Figure size 432x288 with 1 Axes>"
            ]
          },
          "metadata": {
            "tags": []
          }
        }
      ]
    },
    {
      "cell_type": "code",
      "metadata": {
        "id": "2yWNWXSwJyEo",
        "colab_type": "code",
        "colab": {
          "base_uri": "https://localhost:8080/",
          "height": 369
        },
        "outputId": "ba340ae1-d1f4-4a88-c720-c1280a29a57b"
      },
      "source": [
        "sns.FacetGrid(df_ir[['variety', 'color']], hue=\"variety\", size=5) \\\n",
        "   .map(plt.scatter, \"variety\", \"color\") \\\n",
        "   .add_legend()\n",
        "\n",
        "plt.show()"
      ],
      "execution_count": 339,
      "outputs": [
        {
          "output_type": "display_data",
          "data": {
            "image/png": "[encoded data removed]",
            "text/plain": [
              "<Figure size 445.75x360 with 1 Axes>"
            ]
          },
          "metadata": {
            "tags": []
          }
        }
      ]
    },
    {
      "cell_type": "markdown",
      "metadata": {
        "id": "3TT4Yg-ANkje",
        "colab_type": "text"
      },
      "source": [
        "Далее сформируем df для обучения\n",
        "- уберем variety т.к. цель задания предсказать цвет\n",
        "- уберем sum_color т.к. данный столбец статистически не значим для нас"
      ]
    },
    {
      "cell_type": "code",
      "metadata": {
        "id": "I_vKXA5eNWWf",
        "colab_type": "code",
        "colab": {}
      },
      "source": [
        "dataFrame_iris = df_ir[['sepal_length', 'sepal_width', 'petal_length', 'petal_width', 'color']]"
      ],
      "execution_count": 0,
      "outputs": []
    },
    {
      "cell_type": "code",
      "metadata": {
        "id": "vXXKiwrNN2Mc",
        "colab_type": "code",
        "colab": {
          "base_uri": "https://localhost:8080/",
          "height": 204
        },
        "outputId": "043a1f87-5f52-4c87-e004-d524264a8c05"
      },
      "source": [
        "dataFrame_iris.head()"
      ],
      "execution_count": 341,
      "outputs": [
        {
          "output_type": "execute_result",
          "data": {
            "text/html": [
              "<div>\n",
              "<style scoped>\n",
              "    .dataframe tbody tr th:only-of-type {\n",
              "        vertical-align: middle;\n",
              "    }\n",
              "\n",
              "    .dataframe tbody tr th {\n",
              "        vertical-align: top;\n",
              "    }\n",
              "\n",
              "    .dataframe thead th {\n",
              "        text-align: right;\n",
              "    }\n",
              "</style>\n",
              "<table border=\"1\" class=\"dataframe\">\n",
              "  <thead>\n",
              "    <tr style=\"text-align: right;\">\n",
              "      <th></th>\n",
              "      <th>sepal_length</th>\n",
              "      <th>sepal_width</th>\n",
              "      <th>petal_length</th>\n",
              "      <th>petal_width</th>\n",
              "      <th>color</th>\n",
              "    </tr>\n",
              "  </thead>\n",
              "  <tbody>\n",
              "    <tr>\n",
              "      <th>0</th>\n",
              "      <td>5.1</td>\n",
              "      <td>3.5</td>\n",
              "      <td>1.4</td>\n",
              "      <td>0.2</td>\n",
              "      <td>Yellow</td>\n",
              "    </tr>\n",
              "    <tr>\n",
              "      <th>1</th>\n",
              "      <td>4.9</td>\n",
              "      <td>3.0</td>\n",
              "      <td>1.4</td>\n",
              "      <td>0.2</td>\n",
              "      <td>Green</td>\n",
              "    </tr>\n",
              "    <tr>\n",
              "      <th>2</th>\n",
              "      <td>4.7</td>\n",
              "      <td>3.2</td>\n",
              "      <td>1.3</td>\n",
              "      <td>0.2</td>\n",
              "      <td>Green</td>\n",
              "    </tr>\n",
              "    <tr>\n",
              "      <th>3</th>\n",
              "      <td>4.6</td>\n",
              "      <td>3.1</td>\n",
              "      <td>1.5</td>\n",
              "      <td>0.2</td>\n",
              "      <td>Green</td>\n",
              "    </tr>\n",
              "    <tr>\n",
              "      <th>4</th>\n",
              "      <td>5.0</td>\n",
              "      <td>3.6</td>\n",
              "      <td>1.4</td>\n",
              "      <td>0.2</td>\n",
              "      <td>Yellow</td>\n",
              "    </tr>\n",
              "  </tbody>\n",
              "</table>\n",
              "</div>"
            ],
            "text/plain": [
              "   sepal_length  sepal_width  petal_length  petal_width   color\n",
              "0           5.1          3.5           1.4          0.2  Yellow\n",
              "1           4.9          3.0           1.4          0.2   Green\n",
              "2           4.7          3.2           1.3          0.2   Green\n",
              "3           4.6          3.1           1.5          0.2   Green\n",
              "4           5.0          3.6           1.4          0.2  Yellow"
            ]
          },
          "metadata": {
            "tags": []
          },
          "execution_count": 341
        }
      ]
    },
    {
      "cell_type": "markdown",
      "metadata": {
        "id": "d4T_YX4nOW9e",
        "colab_type": "text"
      },
      "source": [
        "Имея столбец в df с типом object, не лучший вариант для нас т.к. мы упираемся в проблему классификации, давайте зададим правило для данного столбца и дадим ему числовые обозначения"
      ]
    },
    {
      "cell_type": "code",
      "metadata": {
        "id": "nJS6nHuAN3DH",
        "colab_type": "code",
        "colab": {}
      },
      "source": [
        "dataFrame_iris['color'] = dataFrame_iris.apply(lambda x: 0 if x['color']=='Blue' \n",
        "                                               else (1 if x['color']=='Yellow'\n",
        "                                                    else (2 if x['color']=='Red'\n",
        "                                                        else (3 if x['color']=='Green' else 5))), axis=1)"
      ],
      "execution_count": 0,
      "outputs": []
    },
    {
      "cell_type": "code",
      "metadata": {
        "id": "Xmk84VQYPtt7",
        "colab_type": "code",
        "colab": {
          "base_uri": "https://localhost:8080/",
          "height": 102
        },
        "outputId": "29821485-2d25-4682-c329-723c80ed1ef8"
      },
      "source": [
        "print(\"Колличество Blue: {}\".format((dataFrame_iris['color']==0).sum()))\n",
        "print(\"Колличество Yellow: {}\".format((dataFrame_iris['color']==1).sum()))\n",
        "print(\"Колличество Red: {}\".format((dataFrame_iris['color']==2).sum()))\n",
        "print(\"Колличество Green: {}\".format((dataFrame_iris['color']==3).sum()))\n",
        "print(\"Колличество: {}\".format((dataFrame_iris['color']==5).sum()))"
      ],
      "execution_count": 343,
      "outputs": [
        {
          "output_type": "stream",
          "text": [
            "Колличество Blue: 53\n",
            "Колличество Yellow: 49\n",
            "Колличество Red: 26\n",
            "Колличество Green: 22\n",
            "Колличество: 0\n"
          ],
          "name": "stdout"
        }
      ]
    },
    {
      "cell_type": "code",
      "metadata": {
        "id": "lcYAkicaQEAU",
        "colab_type": "code",
        "colab": {
          "base_uri": "https://localhost:8080/",
          "height": 204
        },
        "outputId": "3e64179d-4c5a-43c1-a2de-566780d12baf"
      },
      "source": [
        "dataFrame_iris.head()"
      ],
      "execution_count": 344,
      "outputs": [
        {
          "output_type": "execute_result",
          "data": {
            "text/html": [
              "<div>\n",
              "<style scoped>\n",
              "    .dataframe tbody tr th:only-of-type {\n",
              "        vertical-align: middle;\n",
              "    }\n",
              "\n",
              "    .dataframe tbody tr th {\n",
              "        vertical-align: top;\n",
              "    }\n",
              "\n",
              "    .dataframe thead th {\n",
              "        text-align: right;\n",
              "    }\n",
              "</style>\n",
              "<table border=\"1\" class=\"dataframe\">\n",
              "  <thead>\n",
              "    <tr style=\"text-align: right;\">\n",
              "      <th></th>\n",
              "      <th>sepal_length</th>\n",
              "      <th>sepal_width</th>\n",
              "      <th>petal_length</th>\n",
              "      <th>petal_width</th>\n",
              "      <th>color</th>\n",
              "    </tr>\n",
              "  </thead>\n",
              "  <tbody>\n",
              "    <tr>\n",
              "      <th>0</th>\n",
              "      <td>5.1</td>\n",
              "      <td>3.5</td>\n",
              "      <td>1.4</td>\n",
              "      <td>0.2</td>\n",
              "      <td>1</td>\n",
              "    </tr>\n",
              "    <tr>\n",
              "      <th>1</th>\n",
              "      <td>4.9</td>\n",
              "      <td>3.0</td>\n",
              "      <td>1.4</td>\n",
              "      <td>0.2</td>\n",
              "      <td>3</td>\n",
              "    </tr>\n",
              "    <tr>\n",
              "      <th>2</th>\n",
              "      <td>4.7</td>\n",
              "      <td>3.2</td>\n",
              "      <td>1.3</td>\n",
              "      <td>0.2</td>\n",
              "      <td>3</td>\n",
              "    </tr>\n",
              "    <tr>\n",
              "      <th>3</th>\n",
              "      <td>4.6</td>\n",
              "      <td>3.1</td>\n",
              "      <td>1.5</td>\n",
              "      <td>0.2</td>\n",
              "      <td>3</td>\n",
              "    </tr>\n",
              "    <tr>\n",
              "      <th>4</th>\n",
              "      <td>5.0</td>\n",
              "      <td>3.6</td>\n",
              "      <td>1.4</td>\n",
              "      <td>0.2</td>\n",
              "      <td>1</td>\n",
              "    </tr>\n",
              "  </tbody>\n",
              "</table>\n",
              "</div>"
            ],
            "text/plain": [
              "   sepal_length  sepal_width  petal_length  petal_width  color\n",
              "0           5.1          3.5           1.4          0.2      1\n",
              "1           4.9          3.0           1.4          0.2      3\n",
              "2           4.7          3.2           1.3          0.2      3\n",
              "3           4.6          3.1           1.5          0.2      3\n",
              "4           5.0          3.6           1.4          0.2      1"
            ]
          },
          "metadata": {
            "tags": []
          },
          "execution_count": 344
        }
      ]
    },
    {
      "cell_type": "code",
      "metadata": {
        "id": "ZRzD0rHKQ36Q",
        "colab_type": "code",
        "colab": {
          "base_uri": "https://localhost:8080/",
          "height": 499
        },
        "outputId": "025fccde-c019-4a3d-ce4b-3c856ef26804"
      },
      "source": [
        "dataFrame_iris.hist(edgecolor='black', linewidth=1.2)\n",
        "fig=plt.gcf()\n",
        "fig.set_size_inches(8,8)\n",
        "plt.show()"
      ],
      "execution_count": 345,
      "outputs": [
        {
          "output_type": "display_data",
          "data": {
            "image/png": "[encoded data removed]",
            "text/plain": [
              "<Figure size 576x576 with 6 Axes>"
            ]
          },
          "metadata": {
            "tags": []
          }
        }
      ]
    },
    {
      "cell_type": "markdown",
      "metadata": {
        "id": "6ngKxBlQRUHb",
        "colab_type": "text"
      },
      "source": [
        "Похоже sepal_width имее \"Нормально распределение\""
      ]
    },
    {
      "cell_type": "markdown",
      "metadata": {
        "id": "lR18yue4Qdtl",
        "colab_type": "text"
      },
      "source": [
        "Отлично теперь построим матрицу корреляции Пирсона"
      ]
    },
    {
      "cell_type": "code",
      "metadata": {
        "id": "yUNoJ3X-QZE1",
        "colab_type": "code",
        "colab": {
          "base_uri": "https://localhost:8080/",
          "height": 649
        },
        "outputId": "7025cd71-ba57-4eee-d140-80865753648e"
      },
      "source": [
        "sns.heatmap(dataFrame_iris.corr(),annot=True,cmap='RdYlGn',linewidths=0.2) #data.corr()-->correlation matrix\n",
        "fig=plt.gcf()\n",
        "fig.set_size_inches(10,10)\n",
        "plt.show()"
      ],
      "execution_count": 346,
      "outputs": [
        {
          "output_type": "display_data",
          "data": {
            "image/png": "[encoded data removed]",
            "text/plain": [
              "<Figure size 720x720 with 2 Axes>"
            ]
          },
          "metadata": {
            "tags": []
          }
        }
      ]
    },
    {
      "cell_type": "code",
      "metadata": {
        "id": "HkDgWJ5qRgRq",
        "colab_type": "code",
        "colab": {
          "base_uri": "https://localhost:8080/",
          "height": 879
        },
        "outputId": "7c50fb4a-435c-41f9-ac50-9cca5c9fc571"
      },
      "source": [
        "corr = dataFrame_iris.corrwith(dataFrame_iris['color']).reset_index()\n",
        "corr.columns = ['Index','Correlations']\n",
        "corr = corr.set_index('Index')\n",
        "corr = corr.sort_values(by=['Correlations'], ascending = False)\n",
        "plt.figure(figsize=(4,15))\n",
        "fig = sns.heatmap(corr, annot=True, fmt=\"g\", cmap='YlGnBu')\n",
        "plt.title(\"Correlation of Variables with Class\")\n",
        "plt.show()"
      ],
      "execution_count": 347,
      "outputs": [
        {
          "output_type": "display_data",
          "data": {
            "image/png": "[encoded data removed]",
            "text/plain": [
              "<Figure size 288x1080 with 2 Axes>"
            ]
          },
          "metadata": {
            "tags": []
          }
        }
      ]
    },
    {
      "cell_type": "code",
      "metadata": {
        "id": "GICyrOOtSZaT",
        "colab_type": "code",
        "colab": {
          "base_uri": "https://localhost:8080/",
          "height": 34
        },
        "outputId": "bb5ee974-08ce-4a8f-bd34-b916a51aa73a"
      },
      "source": [
        "correlation_matrix = dataFrame_iris.corr(method ='pearson').round(2)\n",
        "print(sorted(correlation_matrix['color']))"
      ],
      "execution_count": 348,
      "outputs": [
        {
          "output_type": "stream",
          "text": [
            "[-0.38, -0.34, -0.3, 0.24, 1.0]\n"
          ],
          "name": "stdout"
        }
      ]
    },
    {
      "cell_type": "markdown",
      "metadata": {
        "id": "TZxQxvx6R7Ux",
        "colab_type": "text"
      },
      "source": [
        "sepal_width имеет положительную корреляцию с color, пусть и достаточно срабую. \n",
        "\n",
        "Попробуем построить модель линейной регрессии"
      ]
    },
    {
      "cell_type": "code",
      "metadata": {
        "id": "BROLI1z9TDel",
        "colab_type": "code",
        "colab": {
          "base_uri": "https://localhost:8080/",
          "height": 34
        },
        "outputId": "3cb96809-b2cc-4719-a7a4-8b27b1ed9617"
      },
      "source": [
        "print(dataFrame_iris.columns)\n",
        "# print(np.isnan(dataFrame_iris.any())) #and gets False\n",
        "# print(np.isfinite(dataFrame_iris.all())) #and gets True\n",
        "\n",
        "# np.any(np.isnan(dataFrame_iris))\n",
        "# np.all(np.isfinite(dataFrame_iris))"
      ],
      "execution_count": 360,
      "outputs": [
        {
          "output_type": "stream",
          "text": [
            "Index(['sepal_length', 'sepal_width', 'petal_length', 'petal_width', 'color'], dtype='object')\n"
          ],
          "name": "stdout"
        }
      ]
    },
    {
      "cell_type": "code",
      "metadata": {
        "id": "p751JhuhR2jd",
        "colab_type": "code",
        "colab": {
          "base_uri": "https://localhost:8080/",
          "height": 170
        },
        "outputId": "297f727a-121c-4d74-c3b2-9ab381285800"
      },
      "source": [
        "column_sels = ['sepal_length', 'sepal_width', 'petal_length', 'petal_width']\n",
        "x = dataFrame_iris.loc[:,column_sels]\n",
        "lstat = x['sepal_length']\n",
        "indus = x['sepal_width']\n",
        "nox = x['petal_length']\n",
        "rm = x['petal_width']\n",
        "\n",
        "y = dataFrame_iris['color']\n",
        "x = np.vstack([np.array(lstat), np.array(indus), np.array(nox), np.array(rm)]).T\n",
        "print('x - это многомерная матрица,: ')\n",
        "print(x[:3])\n",
        "model = LinearRegression().fit(x, y)\n",
        "\n",
        "print('\\nintercept:', model.intercept_)\n",
        "print('slope:', model.coef_)\n",
        "\n",
        "print('\\nПредсказание модели: ', model.predict(x[0:2]))"
      ],
      "execution_count": 352,
      "outputs": [
        {
          "output_type": "stream",
          "text": [
            "x - это многомерная матрица,: \n",
            "[[5.1 3.5 1.4 0.2]\n",
            " [4.9 3.  1.4 0.2]\n",
            " [4.7 3.2 1.3 0.2]]\n",
            "\n",
            "intercept: 1.1108658363262307\n",
            "slope: [ 0.19736949  0.05091041 -0.49678873  0.46730437]\n",
            "\n",
            "Предсказание модели:  [1.69359334 1.62866424]\n"
          ],
          "name": "stdout"
        }
      ]
    },
    {
      "cell_type": "code",
      "metadata": {
        "id": "XPc2i3__Td1U",
        "colab_type": "code",
        "colab": {
          "base_uri": "https://localhost:8080/",
          "height": 85
        },
        "outputId": "cefac677-7ffb-4699-8d20-4551b86ecba8"
      },
      "source": [
        "from sklearn.model_selection import train_test_split\n",
        "\n",
        "X = pd.DataFrame(dataFrame_iris.ix[:, dataFrame_iris.columns != 'color'])\n",
        "y = pd.DataFrame(dataFrame_iris.ix[:, dataFrame_iris.columns == 'color'])\n",
        "\n",
        "X_train, X_test, y_train, y_test = train_test_split(X, y, test_size=0.2, random_state=0)\n",
        "\n",
        "print(\"Number transactions X_train dataset: \", X_train.shape)\n",
        "print(\"Number transactions y_train dataset: \", y_train.shape)\n",
        "print(\"Number transactions X_test dataset: \", X_test.shape)\n",
        "print(\"Number transactions y_test dataset: \", y_test.shape)"
      ],
      "execution_count": 353,
      "outputs": [
        {
          "output_type": "stream",
          "text": [
            "Number transactions X_train dataset:  (120, 4)\n",
            "Number transactions y_train dataset:  (120, 1)\n",
            "Number transactions X_test dataset:  (30, 4)\n",
            "Number transactions y_test dataset:  (30, 1)\n"
          ],
          "name": "stdout"
        }
      ]
    },
    {
      "cell_type": "code",
      "metadata": {
        "id": "CvKy4Y5VXtbA",
        "colab_type": "code",
        "colab": {
          "base_uri": "https://localhost:8080/",
          "height": 136
        },
        "outputId": "26aa1d4e-ae92-4c87-f907-6649bb878f6f"
      },
      "source": [
        "column_sels = ['sepal_length', 'sepal_width', 'petal_length', 'petal_width']\n",
        "x = X_train.loc[:,column_sels]\n",
        "c1 = x['sepal_length']\n",
        "c2 = x['sepal_width']\n",
        "c3 = x['petal_length']\n",
        "c4 = x['petal_width']\n",
        "\n",
        "y = y_train['color']\n",
        "x = np.vstack([np.array(c1), np.array(c2), \n",
        "               np.array(c3), np.array(c4)]).T\n",
        "\n",
        "print('x - это многомерная матрица,: ')\n",
        "print(x[:3])\n",
        "\n",
        "model = LinearRegression().fit(x, y)\n",
        "\n",
        "print('\\nintercept:', model.intercept_)\n",
        "print('slope:', model.coef_)"
      ],
      "execution_count": 355,
      "outputs": [
        {
          "output_type": "stream",
          "text": [
            "x - это многомерная матрица,: \n",
            "[[6.4 3.1 5.5 1.8]\n",
            " [5.4 3.  4.5 1.5]\n",
            " [5.2 3.5 1.5 0.2]]\n",
            "\n",
            "intercept: 0.8555343677382463\n",
            "slope: [ 0.31989909 -0.0088592  -0.6010252   0.61595762]\n"
          ],
          "name": "stdout"
        }
      ]
    },
    {
      "cell_type": "code",
      "metadata": {
        "id": "gER1QnU3X_GH",
        "colab_type": "code",
        "colab": {
          "base_uri": "https://localhost:8080/",
          "height": 170
        },
        "outputId": "64353307-6361-4047-d584-7d64248058fd"
      },
      "source": [
        "print(y_train[0:5])\n",
        "print('\\nПредсказание модели: \\n', model.predict(x[0:5]))"
      ],
      "execution_count": 363,
      "outputs": [
        {
          "output_type": "stream",
          "text": [
            "     color\n",
            "137      0\n",
            "84       0\n",
            "27       1\n",
            "127      0\n",
            "132      0\n",
            "\n",
            "Предсказание модели: \n",
            " [0.67851015 0.7757349  1.70965618 0.94404147 0.86744844]\n"
          ],
          "name": "stdout"
        }
      ]
    },
    {
      "cell_type": "code",
      "metadata": {
        "id": "cELek6lXYJTK",
        "colab_type": "code",
        "colab": {
          "base_uri": "https://localhost:8080/",
          "height": 51
        },
        "outputId": "cc2bd742-1df3-4878-f067-20631bae589f"
      },
      "source": [
        "from sklearn.metrics import mean_absolute_error, mean_squared_error, median_absolute_error, r2_score\n",
        "\n",
        "slr = LinearRegression()\n",
        "slr.fit(X_train, y_train)\n",
        "y_train_pred = slr.predict(X_train)\n",
        "y_test_pred = slr.predict(X_test)\n",
        "\n",
        "print('MSE train: {:.3f}, test: {:.3f}'.format(\n",
        "        mean_squared_error(y_train, y_train_pred),\n",
        "        mean_squared_error(y_test, y_test_pred)))\n",
        "print('R^2 train: {:.3f}, test: {:.3f}'.format(\n",
        "        r2_score(y_train, y_train_pred),\n",
        "        r2_score(y_test, y_test_pred)))"
      ],
      "execution_count": 358,
      "outputs": [
        {
          "output_type": "stream",
          "text": [
            "MSE train: 0.933, test: 0.926\n",
            "R^2 train: 0.148, test: 0.117\n"
          ],
          "name": "stdout"
        }
      ]
    },
    {
      "cell_type": "code",
      "metadata": {
        "id": "Vhgwb3omYRoK",
        "colab_type": "code",
        "colab": {
          "base_uri": "https://localhost:8080/",
          "height": 297
        },
        "outputId": "0c396af9-6b18-48b2-9644-daff7d3862aa"
      },
      "source": [
        "plt.scatter(y_train_pred,  y_train_pred - y_train,\n",
        "            c='blue', marker='o', label='Training data')\n",
        "plt.scatter(y_test_pred,  y_test_pred - y_test,\n",
        "            c='lightgreen', marker='s', label='Test data')\n",
        "plt.xlabel('Predicted values')\n",
        "plt.ylabel('Residuals')\n",
        "plt.legend(loc='upper left')\n",
        "plt.hlines(y=0, xmin=-10, xmax=50, lw=2, color='red')\n",
        "plt.xlim([-10, 50])\n",
        "plt.tight_layout()"
      ],
      "execution_count": 359,
      "outputs": [
        {
          "output_type": "display_data",
          "data": {
            "image/png": "[encoded data removed]",
            "text/plain": [
              "<Figure size 432x288 with 1 Axes>"
            ]
          },
          "metadata": {
            "tags": []
          }
        }
      ]
    },
    {
      "cell_type": "code",
      "metadata": {
        "id": "JjsKlSIpYUTW",
        "colab_type": "code",
        "colab": {
          "base_uri": "https://localhost:8080/",
          "height": 444
        },
        "outputId": "58e6a8d3-2914-451a-b307-ad149a401c3d"
      },
      "source": [
        "import statsmodels.api as sm\n",
        "import statsmodels.formula.api as smf\n",
        "\n",
        "# ['sepal_length', 'sepal_width', 'petal_length', 'petal_width', 'color']\n",
        "\n",
        "results = smf.ols('color ~ sepal_length', data=dataFrame_iris).fit()\n",
        "results.summary()"
      ],
      "execution_count": 361,
      "outputs": [
        {
          "output_type": "execute_result",
          "data": {
            "text/html": [
              "<table class=\"simpletable\">\n",
              "<caption>OLS Regression Results</caption>\n",
              "<tr>\n",
              "  <th>Dep. Variable:</th>          <td>color</td>      <th>  R-squared:         </th> <td>   0.088</td>\n",
              "</tr>\n",
              "<tr>\n",
              "  <th>Model:</th>                   <td>OLS</td>       <th>  Adj. R-squared:    </th> <td>   0.082</td>\n",
              "</tr>\n",
              "<tr>\n",
              "  <th>Method:</th>             <td>Least Squares</td>  <th>  F-statistic:       </th> <td>   14.29</td>\n",
              "</tr>\n",
              "<tr>\n",
              "  <th>Date:</th>             <td>Thu, 04 Jul 2019</td> <th>  Prob (F-statistic):</th> <td>0.000227</td>\n",
              "</tr>\n",
              "<tr>\n",
              "  <th>Time:</th>                 <td>00:29:22</td>     <th>  Log-Likelihood:    </th> <td> -213.11</td>\n",
              "</tr>\n",
              "<tr>\n",
              "  <th>No. Observations:</th>      <td>   150</td>      <th>  AIC:               </th> <td>   430.2</td>\n",
              "</tr>\n",
              "<tr>\n",
              "  <th>Df Residuals:</th>          <td>   148</td>      <th>  BIC:               </th> <td>   436.2</td>\n",
              "</tr>\n",
              "<tr>\n",
              "  <th>Df Model:</th>              <td>     1</td>      <th>                     </th>     <td> </td>   \n",
              "</tr>\n",
              "<tr>\n",
              "  <th>Covariance Type:</th>      <td>nonrobust</td>    <th>                     </th>     <td> </td>   \n",
              "</tr>\n",
              "</table>\n",
              "<table class=\"simpletable\">\n",
              "<tr>\n",
              "        <td></td>          <th>coef</th>     <th>std err</th>      <th>t</th>      <th>P>|t|</th>  <th>[0.025</th>    <th>0.975]</th>  \n",
              "</tr>\n",
              "<tr>\n",
              "  <th>Intercept</th>    <td>    3.3174</td> <td>    0.589</td> <td>    5.634</td> <td> 0.000</td> <td>    2.154</td> <td>    4.481</td>\n",
              "</tr>\n",
              "<tr>\n",
              "  <th>sepal_length</th> <td>   -0.3772</td> <td>    0.100</td> <td>   -3.780</td> <td> 0.000</td> <td>   -0.574</td> <td>   -0.180</td>\n",
              "</tr>\n",
              "</table>\n",
              "<table class=\"simpletable\">\n",
              "<tr>\n",
              "  <th>Omnibus:</th>       <td>177.386</td> <th>  Durbin-Watson:     </th> <td>   1.775</td>\n",
              "</tr>\n",
              "<tr>\n",
              "  <th>Prob(Omnibus):</th> <td> 0.000</td>  <th>  Jarque-Bera (JB):  </th> <td>  18.596</td>\n",
              "</tr>\n",
              "<tr>\n",
              "  <th>Skew:</th>          <td> 0.527</td>  <th>  Prob(JB):          </th> <td>9.16e-05</td>\n",
              "</tr>\n",
              "<tr>\n",
              "  <th>Kurtosis:</th>      <td> 1.635</td>  <th>  Cond. No.          </th> <td>    43.4</td>\n",
              "</tr>\n",
              "</table><br/><br/>Warnings:<br/>[1] Standard Errors assume that the covariance matrix of the errors is correctly specified."
            ],
            "text/plain": [
              "<class 'statsmodels.iolib.summary.Summary'>\n",
              "\"\"\"\n",
              "                            OLS Regression Results                            \n",
              "==============================================================================\n",
              "Dep. Variable:                  color   R-squared:                       0.088\n",
              "Model:                            OLS   Adj. R-squared:                  0.082\n",
              "Method:                 Least Squares   F-statistic:                     14.29\n",
              "Date:                Thu, 04 Jul 2019   Prob (F-statistic):           0.000227\n",
              "Time:                        00:29:22   Log-Likelihood:                -213.11\n",
              "No. Observations:                 150   AIC:                             430.2\n",
              "Df Residuals:                     148   BIC:                             436.2\n",
              "Df Model:                           1                                         \n",
              "Covariance Type:            nonrobust                                         \n",
              "================================================================================\n",
              "                   coef    std err          t      P>|t|      [0.025      0.975]\n",
              "--------------------------------------------------------------------------------\n",
              "Intercept        3.3174      0.589      5.634      0.000       2.154       4.481\n",
              "sepal_length    -0.3772      0.100     -3.780      0.000      -0.574      -0.180\n",
              "==============================================================================\n",
              "Omnibus:                      177.386   Durbin-Watson:                   1.775\n",
              "Prob(Omnibus):                  0.000   Jarque-Bera (JB):               18.596\n",
              "Skew:                           0.527   Prob(JB):                     9.16e-05\n",
              "Kurtosis:                       1.635   Cond. No.                         43.4\n",
              "==============================================================================\n",
              "\n",
              "Warnings:\n",
              "[1] Standard Errors assume that the covariance matrix of the errors is correctly specified.\n",
              "\"\"\""
            ]
          },
          "metadata": {
            "tags": []
          },
          "execution_count": 361
        }
      ]
    },
    {
      "cell_type": "code",
      "metadata": {
        "id": "7kar-RZqYrzV",
        "colab_type": "code",
        "colab": {}
      },
      "source": [
        "pass"
      ],
      "execution_count": 0,
      "outputs": []
    }
  ]
}